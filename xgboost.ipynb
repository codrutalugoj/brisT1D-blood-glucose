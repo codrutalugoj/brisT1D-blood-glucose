{
 "cells": [
  {
   "cell_type": "code",
   "execution_count": 1,
   "metadata": {},
   "outputs": [],
   "source": [
    "import pandas as pd\n",
    "import numpy as np\n",
    "import sklearn"
   ]
  },
  {
   "cell_type": "code",
   "execution_count": 2,
   "metadata": {},
   "outputs": [
    {
     "name": "stderr",
     "output_type": "stream",
     "text": [
      "/tmp/ipykernel_9004/2276112950.py:4: DtypeWarning: Columns (435,436,437,438,439,440,441,442,443,444,445,446,447,448,449,450,451,452,453,454,455,456,457,458,459,460,461,462,463,464,465,466,467,468,469,470,471,472,473,474,475,476,477,478,479,480,481,482,483,484,485,486,487,488,489,490,491,492,493,494,495,496,497,498,499,500,501,502,503,504,505,506) have mixed types. Specify dtype option on import or set low_memory=False.\n",
      "  df = pd.read_csv(train_file)\n"
     ]
    },
    {
     "data": {
      "text/plain": [
       "id               category\n",
       "p_num            category\n",
       "time             category\n",
       "bg-5:55           float64\n",
       "bg-5:50           float64\n",
       "                   ...   \n",
       "activity-0:15    category\n",
       "activity-0:10    category\n",
       "activity-0:05    category\n",
       "activity-0:00    category\n",
       "bg+1:00           float64\n",
       "Length: 508, dtype: object"
      ]
     },
     "execution_count": 2,
     "metadata": {},
     "output_type": "execute_result"
    }
   ],
   "source": [
    "train_file = \"./kaggle/brist1d/train.csv\"\n",
    "test_file = \"./kaggle/brist1d/test.csv\"\n",
    "\n",
    "df = pd.read_csv(train_file)\n",
    "df_test = pd.read_csv(test_file)\n",
    "\n",
    "for col in df.columns:\n",
    "    if df[col].dtype == 'object':\n",
    "        df[col] = df[col].astype('category')\n",
    "\n",
    "df.dtypes"
   ]
  },
  {
   "cell_type": "markdown",
   "metadata": {},
   "source": [
    "## Data Cleaning - handling missing values"
   ]
  },
  {
   "cell_type": "code",
   "execution_count": 3,
   "metadata": {},
   "outputs": [],
   "source": [
    "features = df.columns\n",
    "bg_cols = [col for col in features if \"bg\" in col]\n",
    "insulin_cols = [col for col in features if \"insulin\" in col]\n",
    "carbs_cols = [col for col in features if \"carbs\" in col]\n",
    "hr_cols = [col for col in features if \"hr\" in col]\n",
    "steps_cols = [col for col in features if \"steps\" in col]\n",
    "cals_cols = [col for col in features if \"cals\" in col]\n",
    "activity_cols = [col for col in features if \"activity\" in col]"
   ]
  },
  {
   "cell_type": "markdown",
   "metadata": {},
   "source": [
    "Fill missing values for features based on:\n",
    "- mean value: blood glucose, carbs, cals\n",
    "- zeroes: insulin\n",
    "- forward filled (i.e. propagates the last observation forward): heart rate, steps"
   ]
  },
  {
   "cell_type": "code",
   "execution_count": 4,
   "metadata": {},
   "outputs": [
    {
     "data": {
      "text/plain": [
       "id                    0\n",
       "p_num                 0\n",
       "time                  0\n",
       "bg-5:55               0\n",
       "bg-5:50               0\n",
       "                  ...  \n",
       "activity-0:15    174293\n",
       "activity-0:10    174287\n",
       "activity-0:05    174271\n",
       "activity-0:00    174287\n",
       "bg+1:00               0\n",
       "Length: 508, dtype: int64"
      ]
     },
     "execution_count": 4,
     "metadata": {},
     "output_type": "execute_result"
    }
   ],
   "source": [
    "for feature in [*bg_cols, *carbs_cols, *cals_cols]:\n",
    "    df[feature] = df[feature].fillna(df[feature].mean())\n",
    "\n",
    "for feature in insulin_cols:\n",
    "    df[feature] = df[feature].fillna(0)\n",
    "\n",
    "for feature in [*hr_cols, *steps_cols]:\n",
    "    df[feature] = df[feature].fillna(method=\"ffill\")\n",
    "\n",
    "df.isna().sum()"
   ]
  },
  {
   "cell_type": "markdown",
   "metadata": {},
   "source": [
    "### Fit a simple XGBoost regressor "
   ]
  },
  {
   "cell_type": "code",
   "execution_count": 5,
   "metadata": {},
   "outputs": [
    {
     "data": {
      "text/plain": [
       "Index(['bg-5:55', 'bg-5:50', 'bg-5:45', 'bg-5:40', 'bg-5:35', 'bg-5:30',\n",
       "       'bg-5:25', 'bg-5:20', 'bg-5:15', 'bg-5:10',\n",
       "       ...\n",
       "       'activity-0:40', 'activity-0:35', 'activity-0:30', 'activity-0:25',\n",
       "       'activity-0:20', 'activity-0:15', 'activity-0:10', 'activity-0:05',\n",
       "       'activity-0:00', 'bg+1:00'],\n",
       "      dtype='object', length=505)"
      ]
     },
     "execution_count": 5,
     "metadata": {},
     "output_type": "execute_result"
    }
   ],
   "source": [
    "#df = df.drop([\"p_num\", \"id\", \"time\", *activity_cols], axis=1)\n",
    "df = df.drop([\"p_num\", \"id\", \"time\"], axis=1)\n",
    "X = df.drop(\"bg+1:00\", axis=1)\n",
    "y = df[\"bg+1:00\"]\n",
    "df.columns"
   ]
  },
  {
   "cell_type": "code",
   "execution_count": 6,
   "metadata": {},
   "outputs": [],
   "source": [
    "from sklearn.model_selection import train_test_split\n",
    "from sklearn.metrics import mean_squared_error, r2_score\n",
    "from xgboost import XGBRegressor\n",
    "from sklearn.preprocessing import StandardScaler"
   ]
  },
  {
   "cell_type": "code",
   "execution_count": 7,
   "metadata": {},
   "outputs": [],
   "source": [
    "X_train, X_test, y_train, y_test = train_test_split(X, y, test_size=0.2, random_state=42)\n",
    "\n",
    "# Convert activity columns to category type\n",
    "for col in activity_cols:\n",
    "    X_train[col] = X_train[col].astype('category')\n",
    "    X_test[col] = X_test[col].astype('category')"
   ]
  },
  {
   "cell_type": "code",
   "execution_count": 8,
   "metadata": {},
   "outputs": [
    {
     "name": "stdout",
     "output_type": "stream",
     "text": [
      "Model Performance Metrics:\n",
      "RMSE: 1.9553\n",
      "R² Score: 0.5773\n"
     ]
    }
   ],
   "source": [
    "\n",
    "# 3. Scale the features\n",
    "scaler = StandardScaler()\n",
    "#X_train_scaled = scaler.fit_transform(X_train)\n",
    "#X_test_scaled = scaler.transform(X_test)\n",
    "X_train_scaled = X_train\n",
    "X_test_scaled = X_test\n",
    "\n",
    "feature_types = [\"c\" if feat in activity_cols else \"q\" for feat in X_train.columns]\n",
    "# 4. Initialize and train the XGBoost model\n",
    "xgb_model = XGBRegressor(\n",
    "    feature_types=feature_types,\n",
    "    n_estimators=100,\n",
    "    learning_rate=0.1,\n",
    "    max_depth=5,\n",
    "    min_child_weight=1,\n",
    "    subsample=0.8,\n",
    "    colsample_bytree=0.8,\n",
    "    eval_metric='rmse',\n",
    "    random_state=42,\n",
    "    enable_categorical=True\n",
    ")\n",
    "\n",
    "# Train the model\n",
    "xgb_model.fit(\n",
    "    X_train_scaled, \n",
    "    y_train,\n",
    "    eval_set=[(X_train_scaled, y_train), (X_test_scaled, y_test)],\n",
    "    verbose=False\n",
    ")\n",
    "\n",
    "# 5. Make predictions\n",
    "y_pred = xgb_model.predict(X_test_scaled)\n",
    "\n",
    "# 6. Evaluate the model\n",
    "mse = mean_squared_error(y_test, y_pred)\n",
    "rmse = np.sqrt(mse)\n",
    "r2 = r2_score(y_test, y_pred)\n",
    "\n",
    "print(f\"Model Performance Metrics:\")\n",
    "print(f\"RMSE: {rmse:.4f}\")\n",
    "print(f\"R² Score: {r2:.4f}\")"
   ]
  },
  {
   "cell_type": "code",
   "execution_count": 9,
   "metadata": {},
   "outputs": [
    {
     "data": {
      "text/plain": [
       "array([12.411012,  8.457562, 12.448939, ..., 10.205155,  9.483859,\n",
       "       10.063545], dtype=float32)"
      ]
     },
     "execution_count": 9,
     "metadata": {},
     "output_type": "execute_result"
    }
   ],
   "source": [
    "# X_testing = df_test.drop([\"p_num\", \"id\", \"time\", *activity_cols], axis=1)\n",
    "X_testing = df_test.drop([\"p_num\", \"id\", \"time\"], axis=1)\n",
    "\n",
    "for col in activity_cols:\n",
    "    X_testing[col] = X_testing[col].astype('category')\n",
    "    \n",
    "y_testing_pred = xgb_model.predict(X_testing)\n",
    "y_testing_pred"
   ]
  },
  {
   "cell_type": "markdown",
   "metadata": {},
   "source": [
    "### Writing the predictions to submission file\n",
    "Submission file has format: p_number, prediction_value"
   ]
  },
  {
   "cell_type": "code",
   "execution_count": 10,
   "metadata": {},
   "outputs": [
    {
     "name": "stdout",
     "output_type": "stream",
     "text": [
      "(3644,) (3644,) <class 'numpy.ndarray'>\n"
     ]
    }
   ],
   "source": [
    "print(df_test[\"id\"].shape, y_testing_pred.shape, type(y_testing_pred))\n",
    "#out = np.zeros((2, df_test[\"id\"].shape[0]))\n",
    "out = np.column_stack([df_test[\"id\"], y_testing_pred])\n",
    "out = pd.DataFrame(out, columns=[\"id\", \"bg+1:00\"])\n",
    "\n",
    "out.to_csv(\"submission_xgboost.csv\", index=False)\n"
   ]
  }
 ],
 "metadata": {
  "kernelspec": {
   "display_name": "base",
   "language": "python",
   "name": "python3"
  },
  "language_info": {
   "codemirror_mode": {
    "name": "ipython",
    "version": 3
   },
   "file_extension": ".py",
   "mimetype": "text/x-python",
   "name": "python",
   "nbconvert_exporter": "python",
   "pygments_lexer": "ipython3",
   "version": "3.9.13"
  }
 },
 "nbformat": 4,
 "nbformat_minor": 2
}
