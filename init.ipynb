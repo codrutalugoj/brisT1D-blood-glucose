{
 "cells": [
  {
   "cell_type": "code",
   "execution_count": 1,
   "metadata": {},
   "outputs": [],
   "source": [
    "import pandas as pd\n",
    "import numpy as np\n",
    "\n",
    "import tqdm\n",
    "\n",
    "import torch\n",
    "import torch.nn as nn\n",
    "import torch.optim as optim\n",
    "import torch.nn.functional as F\n",
    "import torch.utils\n",
    "import torch.utils.data\n",
    "\n",
    "import numpy as np\n",
    "import matplotlib.pyplot as plt\n",
    "from sklearn.preprocessing import MinMaxScaler\n",
    "from sklearn.preprocessing import StandardScaler"
   ]
  },
  {
   "cell_type": "code",
   "execution_count": 2,
   "metadata": {},
   "outputs": [
    {
     "name": "stderr",
     "output_type": "stream",
     "text": [
      "/tmp/ipykernel_70418/2519436331.py:4: DtypeWarning: Columns (435,436,437,438,439,440,441,442,443,444,445,446,447,448,449,450,451,452,453,454,455,456,457,458,459,460,461,462,463,464,465,466,467,468,469,470,471,472,473,474,475,476,477,478,479,480,481,482,483,484,485,486,487,488,489,490,491,492,493,494,495,496,497,498,499,500,501,502,503,504,505,506) have mixed types. Specify dtype option on import or set low_memory=False.\n",
      "  df = pd.read_csv(train_file)\n"
     ]
    },
    {
     "name": "stdout",
     "output_type": "stream",
     "text": [
      "Num features train 508\n",
      "Num features test 507\n"
     ]
    },
    {
     "data": {
      "text/plain": [
       "id               category\n",
       "p_num            category\n",
       "time             category\n",
       "bg-5:55           float64\n",
       "bg-5:50           float64\n",
       "                   ...   \n",
       "activity-0:15    category\n",
       "activity-0:10    category\n",
       "activity-0:05    category\n",
       "activity-0:00    category\n",
       "bg+1:00           float64\n",
       "Length: 508, dtype: object"
      ]
     },
     "execution_count": 2,
     "metadata": {},
     "output_type": "execute_result"
    }
   ],
   "source": [
    "train_file = \"./kaggle/brist1d/train.csv\"\n",
    "test_file = \"./kaggle/brist1d/test.csv\"\n",
    "\n",
    "df = pd.read_csv(train_file)\n",
    "df_test = pd.read_csv(test_file)\n",
    "\n",
    "print(\"Num features train\", df.shape[1])\n",
    "print(\"Num features test\", df_test.shape[1])\n",
    "\n",
    "for col in df.columns:\n",
    "    if df[col].dtype == 'object':\n",
    "        df[col] = df[col].astype('category')\n",
    "        df_test[col] = df_test[col].astype('category')\n",
    "\n",
    "df.dtypes"
   ]
  },
  {
   "cell_type": "markdown",
   "metadata": {},
   "source": [
    "## Data Cleaning - handling missing values"
   ]
  },
  {
   "cell_type": "code",
   "execution_count": 3,
   "metadata": {},
   "outputs": [],
   "source": [
    "features = df.columns\n",
    "bg_cols = [col for col in features if \"bg\" in col]\n",
    "insulin_cols = [col for col in features if \"insulin\" in col]\n",
    "carbs_cols = [col for col in features if \"carbs\" in col]\n",
    "hr_cols = [col for col in features if \"hr\" in col]\n",
    "steps_cols = [col for col in features if \"steps\" in col]\n",
    "cals_cols = [col for col in features if \"cals\" in col]\n",
    "activity_cols = [col for col in features if \"activity\" in col]"
   ]
  },
  {
   "cell_type": "markdown",
   "metadata": {},
   "source": [
    "Fill missing values for features based on:\n",
    "- mean value: blood glucose, carbs, cals\n",
    "- zeroes: insulin\n",
    "- forward filled (i.e. propagates the last observation forward): heart rate, steps"
   ]
  },
  {
   "cell_type": "code",
   "execution_count": 4,
   "metadata": {},
   "outputs": [
    {
     "name": "stdout",
     "output_type": "stream",
     "text": [
      "NaNs in training data:  id                    0\n",
      "p_num                 0\n",
      "time                  0\n",
      "bg-5:55               0\n",
      "bg-5:50               0\n",
      "                  ...  \n",
      "activity-0:15    174293\n",
      "activity-0:10    174287\n",
      "activity-0:05    174271\n",
      "activity-0:00    174287\n",
      "bg+1:00               0\n",
      "Length: 508, dtype: int64\n",
      "NaNs in testing data id                  0\n",
      "p_num               0\n",
      "time                0\n",
      "bg-5:55             0\n",
      "bg-5:50             0\n",
      "                 ... \n",
      "activity-0:20    3580\n",
      "activity-0:15    3587\n",
      "activity-0:10    3586\n",
      "activity-0:05    3581\n",
      "activity-0:00    3583\n",
      "Length: 507, dtype: int64\n",
      "Num features train 508\n",
      "Num features test 507\n"
     ]
    }
   ],
   "source": [
    "for feature in [*bg_cols, *carbs_cols, *cals_cols]:\n",
    "    if feature != \"bg+1:00\":\n",
    "        df[feature] = df[feature].fillna(df[feature].mean())\n",
    "        df_test[feature] = df_test[feature].fillna(df_test[feature].mean())\n",
    "\n",
    "for feature in insulin_cols:\n",
    "    df[feature] = df[feature].fillna(0)\n",
    "    df_test[feature] = df_test[feature].fillna(0)\n",
    "\n",
    "for feature in [*hr_cols, *steps_cols]:\n",
    "    df[feature] = df[feature].fillna(method=\"ffill\")\n",
    "    df_test[feature] = df_test[feature].fillna(method=\"ffill\")\n",
    "\n",
    "    df[feature] = df[feature].fillna(method=\"bfill\")\n",
    "    df_test[feature] = df_test[feature].fillna(method=\"bfill\")\n",
    "\n",
    "print(\"NaNs in training data: \", df.isna().sum())\n",
    "print(\"NaNs in testing data\", df_test.isna().sum())\n",
    "\n",
    "print(\"Num features train\", df.shape[1])\n",
    "print(\"Num features test\", df_test.shape[1])"
   ]
  },
  {
   "cell_type": "code",
   "execution_count": 5,
   "metadata": {},
   "outputs": [
    {
     "name": "stdout",
     "output_type": "stream",
     "text": [
      "Num features train 433\n",
      "Num features test 433\n"
     ]
    }
   ],
   "source": [
    "df['time'] = pd.to_timedelta(df['time']).dt.total_seconds()\n",
    "df_test['time'] = pd.to_timedelta(df_test['time']).dt.total_seconds()\n",
    "\n",
    "# for now we just ignore participant profiles\n",
    "df.drop(columns=[\"p_num\", \"id\", *activity_cols], inplace=True)\n",
    "test_ids = df_test[\"id\"]\n",
    "df_test.drop(columns=[\"p_num\", \"id\", *activity_cols], inplace=True)\n",
    "\n",
    "# drop remaining NAs that could not be filled in\n",
    "# df = df.dropna(how=\"any\")\n",
    "# df_test = df_test.dropna(how=\"any\")\n",
    "\n",
    "y = df[\"bg+1:00\"]\n",
    "df = df.drop(\"bg+1:00\", axis=1)\n",
    "\n",
    "print(\"Num features train\", df.shape[1])\n",
    "print(\"Num features test\", df_test.shape[1])"
   ]
  },
  {
   "cell_type": "code",
   "execution_count": 6,
   "metadata": {},
   "outputs": [
    {
     "name": "stdout",
     "output_type": "stream",
     "text": [
      "Data train shape (177024, 433)\n",
      "Data test shape (3644, 433)\n"
     ]
    }
   ],
   "source": [
    "print(\"Data train shape\", df.shape)\n",
    "print(\"Data test shape\", df_test.shape)"
   ]
  },
  {
   "cell_type": "markdown",
   "metadata": {},
   "source": [
    "### Normalize features"
   ]
  },
  {
   "cell_type": "code",
   "execution_count": 7,
   "metadata": {},
   "outputs": [
    {
     "name": "stdout",
     "output_type": "stream",
     "text": [
      "torch.Size([177024, 433])\n",
      "torch.Size([177024, 1])\n"
     ]
    }
   ],
   "source": [
    "# scale features\n",
    "scaler = StandardScaler()\n",
    "df = scaler.fit_transform(df)\n",
    "df_test = scaler.fit_transform(df_test)\n",
    "y = scaler.fit_transform(np.reshape(y.values, (-1, 1)))\n",
    "\n",
    "# transform to tensor and reshape\n",
    "df_tensor = torch.Tensor(df)\n",
    "df_test_tensor = torch.Tensor(df_test)\n",
    "y_tensor = torch.Tensor(y)\n",
    "print(df_tensor.shape)\n",
    "print(y_tensor.shape)\n",
    "\n",
    "# create dataloader\n",
    "dataset = torch.utils.data.TensorDataset(df_tensor, y_tensor)\n",
    "dataloader = torch.utils.data.DataLoader(dataset, batch_size=1024, shuffle=True)\n"
   ]
  },
  {
   "cell_type": "markdown",
   "metadata": {},
   "source": [
    "#### Checking the data before feeding it into the network"
   ]
  },
  {
   "cell_type": "code",
   "execution_count": 8,
   "metadata": {},
   "outputs": [
    {
     "name": "stdout",
     "output_type": "stream",
     "text": [
      "tensor(False)\n",
      "Col 0 tensor(0)\n",
      "Col 1 tensor(0)\n",
      "Col 2 tensor(0)\n",
      "Col 3 tensor(0)\n",
      "Col 4 tensor(0)\n",
      "Col 5 tensor(0)\n",
      "Col 6 tensor(0)\n",
      "Col 7 tensor(0)\n",
      "Col 8 tensor(0)\n",
      "Col 9 tensor(0)\n",
      "Col 10 tensor(0)\n",
      "Col 11 tensor(0)\n",
      "Col 12 tensor(0)\n",
      "Col 13 tensor(0)\n",
      "Col 14 tensor(0)\n",
      "Col 15 tensor(0)\n",
      "Col 16 tensor(0)\n",
      "Col 17 tensor(0)\n",
      "Col 18 tensor(0)\n",
      "Col 19 tensor(0)\n",
      "Col 20 tensor(0)\n",
      "Col 21 tensor(0)\n",
      "Col 22 tensor(0)\n",
      "Col 23 tensor(0)\n",
      "Col 24 tensor(0)\n",
      "Col 25 tensor(0)\n",
      "Col 26 tensor(0)\n",
      "Col 27 tensor(0)\n",
      "Col 28 tensor(0)\n",
      "Col 29 tensor(0)\n",
      "Col 30 tensor(0)\n",
      "Col 31 tensor(0)\n",
      "Col 32 tensor(0)\n",
      "Col 33 tensor(0)\n",
      "Col 34 tensor(0)\n",
      "Col 35 tensor(0)\n",
      "Col 36 tensor(0)\n",
      "Col 37 tensor(0)\n",
      "Col 38 tensor(0)\n",
      "Col 39 tensor(0)\n",
      "Col 40 tensor(0)\n",
      "Col 41 tensor(0)\n",
      "Col 42 tensor(0)\n",
      "Col 43 tensor(0)\n",
      "Col 44 tensor(0)\n",
      "Col 45 tensor(0)\n",
      "Col 46 tensor(0)\n",
      "Col 47 tensor(0)\n",
      "Col 48 tensor(0)\n",
      "Col 49 tensor(0)\n",
      "Col 50 tensor(0)\n",
      "Col 51 tensor(0)\n",
      "Col 52 tensor(0)\n",
      "Col 53 tensor(0)\n",
      "Col 54 tensor(0)\n",
      "Col 55 tensor(0)\n",
      "Col 56 tensor(0)\n",
      "Col 57 tensor(0)\n",
      "Col 58 tensor(0)\n",
      "Col 59 tensor(0)\n",
      "Col 60 tensor(0)\n",
      "Col 61 tensor(0)\n",
      "Col 62 tensor(0)\n",
      "Col 63 tensor(0)\n",
      "Col 64 tensor(0)\n",
      "Col 65 tensor(0)\n",
      "Col 66 tensor(0)\n",
      "Col 67 tensor(0)\n",
      "Col 68 tensor(0)\n",
      "Col 69 tensor(0)\n",
      "Col 70 tensor(0)\n",
      "Col 71 tensor(0)\n",
      "Col 72 tensor(0)\n",
      "Col 73 tensor(0)\n",
      "Col 74 tensor(0)\n",
      "Col 75 tensor(0)\n",
      "Col 76 tensor(0)\n",
      "Col 77 tensor(0)\n",
      "Col 78 tensor(0)\n",
      "Col 79 tensor(0)\n",
      "Col 80 tensor(0)\n",
      "Col 81 tensor(0)\n",
      "Col 82 tensor(0)\n",
      "Col 83 tensor(0)\n",
      "Col 84 tensor(0)\n",
      "Col 85 tensor(0)\n",
      "Col 86 tensor(0)\n",
      "Col 87 tensor(0)\n",
      "Col 88 tensor(0)\n",
      "Col 89 tensor(0)\n",
      "Col 90 tensor(0)\n",
      "Col 91 tensor(0)\n",
      "Col 92 tensor(0)\n",
      "Col 93 tensor(0)\n",
      "Col 94 tensor(0)\n",
      "Col 95 tensor(0)\n",
      "Col 96 tensor(0)\n",
      "Col 97 tensor(0)\n",
      "Col 98 tensor(0)\n",
      "Col 99 tensor(0)\n",
      "Col 100 tensor(0)\n",
      "Col 101 tensor(0)\n",
      "Col 102 tensor(0)\n",
      "Col 103 tensor(0)\n",
      "Col 104 tensor(0)\n",
      "Col 105 tensor(0)\n",
      "Col 106 tensor(0)\n",
      "Col 107 tensor(0)\n",
      "Col 108 tensor(0)\n",
      "Col 109 tensor(0)\n",
      "Col 110 tensor(0)\n",
      "Col 111 tensor(0)\n",
      "Col 112 tensor(0)\n",
      "Col 113 tensor(0)\n",
      "Col 114 tensor(0)\n",
      "Col 115 tensor(0)\n",
      "Col 116 tensor(0)\n",
      "Col 117 tensor(0)\n",
      "Col 118 tensor(0)\n",
      "Col 119 tensor(0)\n",
      "Col 120 tensor(0)\n",
      "Col 121 tensor(0)\n",
      "Col 122 tensor(0)\n",
      "Col 123 tensor(0)\n",
      "Col 124 tensor(0)\n",
      "Col 125 tensor(0)\n",
      "Col 126 tensor(0)\n",
      "Col 127 tensor(0)\n",
      "Col 128 tensor(0)\n",
      "Col 129 tensor(0)\n",
      "Col 130 tensor(0)\n",
      "Col 131 tensor(0)\n",
      "Col 132 tensor(0)\n",
      "Col 133 tensor(0)\n",
      "Col 134 tensor(0)\n",
      "Col 135 tensor(0)\n",
      "Col 136 tensor(0)\n",
      "Col 137 tensor(0)\n",
      "Col 138 tensor(0)\n",
      "Col 139 tensor(0)\n",
      "Col 140 tensor(0)\n",
      "Col 141 tensor(0)\n",
      "Col 142 tensor(0)\n",
      "Col 143 tensor(0)\n",
      "Col 144 tensor(0)\n",
      "Col 145 tensor(0)\n",
      "Col 146 tensor(0)\n",
      "Col 147 tensor(0)\n",
      "Col 148 tensor(0)\n",
      "Col 149 tensor(0)\n",
      "Col 150 tensor(0)\n",
      "Col 151 tensor(0)\n",
      "Col 152 tensor(0)\n",
      "Col 153 tensor(0)\n",
      "Col 154 tensor(0)\n",
      "Col 155 tensor(0)\n",
      "Col 156 tensor(0)\n",
      "Col 157 tensor(0)\n",
      "Col 158 tensor(0)\n",
      "Col 159 tensor(0)\n",
      "Col 160 tensor(0)\n",
      "Col 161 tensor(0)\n",
      "Col 162 tensor(0)\n",
      "Col 163 tensor(0)\n",
      "Col 164 tensor(0)\n",
      "Col 165 tensor(0)\n",
      "Col 166 tensor(0)\n",
      "Col 167 tensor(0)\n",
      "Col 168 tensor(0)\n",
      "Col 169 tensor(0)\n",
      "Col 170 tensor(0)\n",
      "Col 171 tensor(0)\n",
      "Col 172 tensor(0)\n",
      "Col 173 tensor(0)\n",
      "Col 174 tensor(0)\n",
      "Col 175 tensor(0)\n",
      "Col 176 tensor(0)\n",
      "Col 177 tensor(0)\n",
      "Col 178 tensor(0)\n",
      "Col 179 tensor(0)\n",
      "Col 180 tensor(0)\n",
      "Col 181 tensor(0)\n",
      "Col 182 tensor(0)\n",
      "Col 183 tensor(0)\n",
      "Col 184 tensor(0)\n",
      "Col 185 tensor(0)\n",
      "Col 186 tensor(0)\n",
      "Col 187 tensor(0)\n",
      "Col 188 tensor(0)\n",
      "Col 189 tensor(0)\n",
      "Col 190 tensor(0)\n",
      "Col 191 tensor(0)\n",
      "Col 192 tensor(0)\n",
      "Col 193 tensor(0)\n",
      "Col 194 tensor(0)\n",
      "Col 195 tensor(0)\n",
      "Col 196 tensor(0)\n",
      "Col 197 tensor(0)\n",
      "Col 198 tensor(0)\n",
      "Col 199 tensor(0)\n",
      "Col 200 tensor(0)\n",
      "Col 201 tensor(0)\n",
      "Col 202 tensor(0)\n",
      "Col 203 tensor(0)\n",
      "Col 204 tensor(0)\n",
      "Col 205 tensor(0)\n",
      "Col 206 tensor(0)\n",
      "Col 207 tensor(0)\n",
      "Col 208 tensor(0)\n",
      "Col 209 tensor(0)\n",
      "Col 210 tensor(0)\n",
      "Col 211 tensor(0)\n",
      "Col 212 tensor(0)\n",
      "Col 213 tensor(0)\n",
      "Col 214 tensor(0)\n",
      "Col 215 tensor(0)\n",
      "Col 216 tensor(0)\n",
      "Col 217 tensor(0)\n",
      "Col 218 tensor(0)\n",
      "Col 219 tensor(0)\n",
      "Col 220 tensor(0)\n",
      "Col 221 tensor(0)\n",
      "Col 222 tensor(0)\n",
      "Col 223 tensor(0)\n",
      "Col 224 tensor(0)\n",
      "Col 225 tensor(0)\n",
      "Col 226 tensor(0)\n",
      "Col 227 tensor(0)\n",
      "Col 228 tensor(0)\n",
      "Col 229 tensor(0)\n",
      "Col 230 tensor(0)\n",
      "Col 231 tensor(0)\n",
      "Col 232 tensor(0)\n",
      "Col 233 tensor(0)\n",
      "Col 234 tensor(0)\n",
      "Col 235 tensor(0)\n",
      "Col 236 tensor(0)\n",
      "Col 237 tensor(0)\n",
      "Col 238 tensor(0)\n",
      "Col 239 tensor(0)\n",
      "Col 240 tensor(0)\n",
      "Col 241 tensor(0)\n",
      "Col 242 tensor(0)\n",
      "Col 243 tensor(0)\n",
      "Col 244 tensor(0)\n",
      "Col 245 tensor(0)\n",
      "Col 246 tensor(0)\n",
      "Col 247 tensor(0)\n",
      "Col 248 tensor(0)\n",
      "Col 249 tensor(0)\n",
      "Col 250 tensor(0)\n",
      "Col 251 tensor(0)\n",
      "Col 252 tensor(0)\n",
      "Col 253 tensor(0)\n",
      "Col 254 tensor(0)\n",
      "Col 255 tensor(0)\n",
      "Col 256 tensor(0)\n",
      "Col 257 tensor(0)\n",
      "Col 258 tensor(0)\n",
      "Col 259 tensor(0)\n",
      "Col 260 tensor(0)\n",
      "Col 261 tensor(0)\n",
      "Col 262 tensor(0)\n",
      "Col 263 tensor(0)\n",
      "Col 264 tensor(0)\n",
      "Col 265 tensor(0)\n",
      "Col 266 tensor(0)\n",
      "Col 267 tensor(0)\n",
      "Col 268 tensor(0)\n",
      "Col 269 tensor(0)\n",
      "Col 270 tensor(0)\n",
      "Col 271 tensor(0)\n",
      "Col 272 tensor(0)\n",
      "Col 273 tensor(0)\n",
      "Col 274 tensor(0)\n",
      "Col 275 tensor(0)\n",
      "Col 276 tensor(0)\n",
      "Col 277 tensor(0)\n",
      "Col 278 tensor(0)\n",
      "Col 279 tensor(0)\n",
      "Col 280 tensor(0)\n",
      "Col 281 tensor(0)\n",
      "Col 282 tensor(0)\n",
      "Col 283 tensor(0)\n",
      "Col 284 tensor(0)\n",
      "Col 285 tensor(0)\n",
      "Col 286 tensor(0)\n",
      "Col 287 tensor(0)\n",
      "Col 288 tensor(0)\n",
      "Col 289 tensor(0)\n",
      "Col 290 tensor(0)\n",
      "Col 291 tensor(0)\n",
      "Col 292 tensor(0)\n",
      "Col 293 tensor(0)\n",
      "Col 294 tensor(0)\n",
      "Col 295 tensor(0)\n",
      "Col 296 tensor(0)\n",
      "Col 297 tensor(0)\n",
      "Col 298 tensor(0)\n",
      "Col 299 tensor(0)\n",
      "Col 300 tensor(0)\n",
      "Col 301 tensor(0)\n",
      "Col 302 tensor(0)\n",
      "Col 303 tensor(0)\n",
      "Col 304 tensor(0)\n",
      "Col 305 tensor(0)\n",
      "Col 306 tensor(0)\n",
      "Col 307 tensor(0)\n",
      "Col 308 tensor(0)\n",
      "Col 309 tensor(0)\n",
      "Col 310 tensor(0)\n",
      "Col 311 tensor(0)\n",
      "Col 312 tensor(0)\n",
      "Col 313 tensor(0)\n",
      "Col 314 tensor(0)\n",
      "Col 315 tensor(0)\n",
      "Col 316 tensor(0)\n",
      "Col 317 tensor(0)\n",
      "Col 318 tensor(0)\n",
      "Col 319 tensor(0)\n",
      "Col 320 tensor(0)\n",
      "Col 321 tensor(0)\n",
      "Col 322 tensor(0)\n",
      "Col 323 tensor(0)\n",
      "Col 324 tensor(0)\n",
      "Col 325 tensor(0)\n",
      "Col 326 tensor(0)\n",
      "Col 327 tensor(0)\n",
      "Col 328 tensor(0)\n",
      "Col 329 tensor(0)\n",
      "Col 330 tensor(0)\n",
      "Col 331 tensor(0)\n",
      "Col 332 tensor(0)\n",
      "Col 333 tensor(0)\n",
      "Col 334 tensor(0)\n",
      "Col 335 tensor(0)\n",
      "Col 336 tensor(0)\n",
      "Col 337 tensor(0)\n",
      "Col 338 tensor(0)\n",
      "Col 339 tensor(0)\n",
      "Col 340 tensor(0)\n",
      "Col 341 tensor(0)\n",
      "Col 342 tensor(0)\n",
      "Col 343 tensor(0)\n",
      "Col 344 tensor(0)\n",
      "Col 345 tensor(0)\n",
      "Col 346 tensor(0)\n",
      "Col 347 tensor(0)\n",
      "Col 348 tensor(0)\n",
      "Col 349 tensor(0)\n",
      "Col 350 tensor(0)\n",
      "Col 351 tensor(0)\n",
      "Col 352 tensor(0)\n",
      "Col 353 tensor(0)\n",
      "Col 354 tensor(0)\n",
      "Col 355 tensor(0)\n",
      "Col 356 tensor(0)\n",
      "Col 357 tensor(0)\n",
      "Col 358 tensor(0)\n",
      "Col 359 tensor(0)\n",
      "Col 360 tensor(0)\n",
      "Col 361 tensor(0)\n",
      "Col 362 tensor(0)\n",
      "Col 363 tensor(0)\n",
      "Col 364 tensor(0)\n",
      "Col 365 tensor(0)\n",
      "Col 366 tensor(0)\n",
      "Col 367 tensor(0)\n",
      "Col 368 tensor(0)\n",
      "Col 369 tensor(0)\n",
      "Col 370 tensor(0)\n",
      "Col 371 tensor(0)\n",
      "Col 372 tensor(0)\n",
      "Col 373 tensor(0)\n",
      "Col 374 tensor(0)\n",
      "Col 375 tensor(0)\n",
      "Col 376 tensor(0)\n",
      "Col 377 tensor(0)\n",
      "Col 378 tensor(0)\n",
      "Col 379 tensor(0)\n",
      "Col 380 tensor(0)\n",
      "Col 381 tensor(0)\n",
      "Col 382 tensor(0)\n",
      "Col 383 tensor(0)\n",
      "Col 384 tensor(0)\n",
      "Col 385 tensor(0)\n",
      "Col 386 tensor(0)\n",
      "Col 387 tensor(0)\n",
      "Col 388 tensor(0)\n",
      "Col 389 tensor(0)\n",
      "Col 390 tensor(0)\n",
      "Col 391 tensor(0)\n",
      "Col 392 tensor(0)\n",
      "Col 393 tensor(0)\n",
      "Col 394 tensor(0)\n",
      "Col 395 tensor(0)\n",
      "Col 396 tensor(0)\n",
      "Col 397 tensor(0)\n",
      "Col 398 tensor(0)\n",
      "Col 399 tensor(0)\n",
      "Col 400 tensor(0)\n",
      "Col 401 tensor(0)\n",
      "Col 402 tensor(0)\n",
      "Col 403 tensor(0)\n",
      "Col 404 tensor(0)\n",
      "Col 405 tensor(0)\n",
      "Col 406 tensor(0)\n",
      "Col 407 tensor(0)\n",
      "Col 408 tensor(0)\n",
      "Col 409 tensor(0)\n",
      "Col 410 tensor(0)\n",
      "Col 411 tensor(0)\n",
      "Col 412 tensor(0)\n",
      "Col 413 tensor(0)\n",
      "Col 414 tensor(0)\n",
      "Col 415 tensor(0)\n",
      "Col 416 tensor(0)\n",
      "Col 417 tensor(0)\n",
      "Col 418 tensor(0)\n",
      "Col 419 tensor(0)\n",
      "Col 420 tensor(0)\n",
      "Col 421 tensor(0)\n",
      "Col 422 tensor(0)\n",
      "Col 423 tensor(0)\n",
      "Col 424 tensor(0)\n",
      "Col 425 tensor(0)\n",
      "Col 426 tensor(0)\n",
      "Col 427 tensor(0)\n",
      "Col 428 tensor(0)\n",
      "Col 429 tensor(0)\n",
      "Col 430 tensor(0)\n",
      "Col 431 tensor(0)\n",
      "Col 432 tensor(0)\n"
     ]
    }
   ],
   "source": [
    "print(df_tensor.isnan().any())\n",
    "\n",
    "for col in range(df_tensor.shape[1]):\n",
    "    print(\"Col\", col, df_tensor[:, col].isnan().sum())"
   ]
  },
  {
   "cell_type": "markdown",
   "metadata": {},
   "source": [
    "### RNN (LSTM)"
   ]
  },
  {
   "cell_type": "code",
   "execution_count": 9,
   "metadata": {},
   "outputs": [],
   "source": [
    "class RNN(nn.Module):\n",
    "    def __init__(self, batch_size, input_size, hidden_size, num_layers):\n",
    "        super(RNN, self).__init__()\n",
    "        self.batch_size = batch_size\n",
    "        self.input_size = input_size\n",
    "        self.hidden_size = hidden_size\n",
    "\n",
    "        self.lstm = nn.LSTM(input_size=input_size, hidden_size=hidden_size, num_layers=num_layers, batch_first=True)\n",
    "        self.activ = nn.ReLU()\n",
    "        self.linear = nn.Linear(hidden_size, 1)\n",
    "        self.pos_out = nn.ReLU()\n",
    "\n",
    "    \n",
    "    def forward(self, x):\n",
    "        lstm_out, hidden_state = self.lstm(x)\n",
    "\n",
    "        out = self.activ(lstm_out)\n",
    "        pred = self.linear(out)\n",
    "\n",
    "        return self.pos_out(pred)\n",
    "\n",
    "model = RNN(input_size=df_tensor.size(1), batch_size=256, hidden_size=32, num_layers=1)"
   ]
  },
  {
   "cell_type": "code",
   "execution_count": 10,
   "metadata": {},
   "outputs": [],
   "source": [
    "optimizer = optim.Adam(model.parameters(), lr=0.05)\n",
    "mse_loss = torch.nn.MSELoss()"
   ]
  },
  {
   "cell_type": "code",
   "execution_count": 11,
   "metadata": {},
   "outputs": [
    {
     "name": "stderr",
     "output_type": "stream",
     "text": [
      "173it [00:07, 21.92it/s]0:00<?, ?it/s]\n",
      "  5%|▌         | 1/20 [00:07<02:30,  7.90s/it]"
     ]
    },
    {
     "name": "stdout",
     "output_type": "stream",
     "text": [
      "Loss: 132.41249072551727\n"
     ]
    },
    {
     "name": "stderr",
     "output_type": "stream",
     "text": [
      "173it [00:10, 16.45it/s]\n",
      " 10%|█         | 2/20 [00:18<02:49,  9.44s/it]"
     ]
    },
    {
     "name": "stdout",
     "output_type": "stream",
     "text": [
      "Loss: 122.33374148607254\n"
     ]
    },
    {
     "name": "stderr",
     "output_type": "stream",
     "text": [
      "173it [00:10, 16.16it/s]\n",
      " 15%|█▌        | 3/20 [00:29<02:50, 10.02s/it]"
     ]
    },
    {
     "name": "stdout",
     "output_type": "stream",
     "text": [
      "Loss: 119.79158878326416\n"
     ]
    },
    {
     "name": "stderr",
     "output_type": "stream",
     "text": [
      "173it [00:11, 15.34it/s]\n",
      " 20%|██        | 4/20 [00:40<02:48, 10.52s/it]"
     ]
    },
    {
     "name": "stdout",
     "output_type": "stream",
     "text": [
      "Loss: 118.31409788131714\n"
     ]
    },
    {
     "name": "stderr",
     "output_type": "stream",
     "text": [
      "173it [00:11, 15.53it/s]\n",
      " 25%|██▌       | 5/20 [00:51<02:41, 10.75s/it]"
     ]
    },
    {
     "name": "stdout",
     "output_type": "stream",
     "text": [
      "Loss: 117.49918383359909\n"
     ]
    },
    {
     "name": "stderr",
     "output_type": "stream",
     "text": [
      "173it [00:11, 15.35it/s]\n",
      " 30%|███       | 6/20 [01:02<02:32, 10.93s/it]"
     ]
    },
    {
     "name": "stdout",
     "output_type": "stream",
     "text": [
      "Loss: 116.10737401247025\n"
     ]
    },
    {
     "name": "stderr",
     "output_type": "stream",
     "text": [
      "173it [00:11, 15.34it/s]\n",
      " 35%|███▌      | 7/20 [01:14<02:23, 11.04s/it]"
     ]
    },
    {
     "name": "stdout",
     "output_type": "stream",
     "text": [
      "Loss: 115.43776190280914\n"
     ]
    },
    {
     "name": "stderr",
     "output_type": "stream",
     "text": [
      "173it [00:11, 15.48it/s]\n",
      " 40%|████      | 8/20 [01:25<02:13, 11.09s/it]"
     ]
    },
    {
     "name": "stdout",
     "output_type": "stream",
     "text": [
      "Loss: 115.0541757941246\n"
     ]
    },
    {
     "name": "stderr",
     "output_type": "stream",
     "text": [
      "173it [00:11, 15.48it/s]\n",
      " 45%|████▌     | 9/20 [01:36<02:02, 11.12s/it]"
     ]
    },
    {
     "name": "stdout",
     "output_type": "stream",
     "text": [
      "Loss: 114.20870465040207\n"
     ]
    },
    {
     "name": "stderr",
     "output_type": "stream",
     "text": [
      "173it [00:11, 15.03it/s]\n",
      " 50%|█████     | 10/20 [01:48<01:52, 11.24s/it]"
     ]
    },
    {
     "name": "stdout",
     "output_type": "stream",
     "text": [
      "Loss: 113.8018508553505\n"
     ]
    },
    {
     "name": "stderr",
     "output_type": "stream",
     "text": [
      "173it [00:12, 14.25it/s]\n",
      " 55%|█████▌    | 11/20 [02:00<01:43, 11.52s/it]"
     ]
    },
    {
     "name": "stdout",
     "output_type": "stream",
     "text": [
      "Loss: 113.32632625102997\n"
     ]
    },
    {
     "name": "stderr",
     "output_type": "stream",
     "text": [
      "173it [00:11, 15.05it/s]\n",
      " 60%|██████    | 12/20 [02:11<01:32, 11.51s/it]"
     ]
    },
    {
     "name": "stdout",
     "output_type": "stream",
     "text": [
      "Loss: 113.43143475055695\n"
     ]
    },
    {
     "name": "stderr",
     "output_type": "stream",
     "text": [
      "173it [00:11, 15.47it/s]\n",
      " 65%|██████▌   | 13/20 [02:22<01:19, 11.41s/it]"
     ]
    },
    {
     "name": "stdout",
     "output_type": "stream",
     "text": [
      "Loss: 112.80167281627655\n"
     ]
    },
    {
     "name": "stderr",
     "output_type": "stream",
     "text": [
      "173it [00:11, 15.69it/s]\n",
      " 70%|███████   | 14/20 [02:33<01:07, 11.30s/it]"
     ]
    },
    {
     "name": "stdout",
     "output_type": "stream",
     "text": [
      "Loss: 112.39294868707657\n"
     ]
    },
    {
     "name": "stderr",
     "output_type": "stream",
     "text": [
      "173it [00:11, 15.46it/s]\n",
      " 75%|███████▌  | 15/20 [02:45<00:56, 11.27s/it]"
     ]
    },
    {
     "name": "stdout",
     "output_type": "stream",
     "text": [
      "Loss: 112.09873670339584\n"
     ]
    },
    {
     "name": "stderr",
     "output_type": "stream",
     "text": [
      "173it [00:11, 15.66it/s]\n",
      " 80%|████████  | 16/20 [02:56<00:44, 11.20s/it]"
     ]
    },
    {
     "name": "stdout",
     "output_type": "stream",
     "text": [
      "Loss: 112.11726546287537\n"
     ]
    },
    {
     "name": "stderr",
     "output_type": "stream",
     "text": [
      "173it [00:10, 15.74it/s]\n",
      " 85%|████████▌ | 17/20 [03:07<00:33, 11.14s/it]"
     ]
    },
    {
     "name": "stdout",
     "output_type": "stream",
     "text": [
      "Loss: 112.14528185129166\n"
     ]
    },
    {
     "name": "stderr",
     "output_type": "stream",
     "text": [
      "173it [00:10, 16.04it/s]\n",
      " 90%|█████████ | 18/20 [03:17<00:22, 11.04s/it]"
     ]
    },
    {
     "name": "stdout",
     "output_type": "stream",
     "text": [
      "Loss: 111.23599827289581\n"
     ]
    },
    {
     "name": "stderr",
     "output_type": "stream",
     "text": [
      "173it [00:10, 16.37it/s]\n",
      " 95%|█████████▌| 19/20 [03:28<00:10, 10.90s/it]"
     ]
    },
    {
     "name": "stdout",
     "output_type": "stream",
     "text": [
      "Loss: 112.00956743955612\n"
     ]
    },
    {
     "name": "stderr",
     "output_type": "stream",
     "text": [
      "173it [00:10, 16.48it/s]\n",
      "100%|██████████| 20/20 [03:38<00:00, 10.95s/it]"
     ]
    },
    {
     "name": "stdout",
     "output_type": "stream",
     "text": [
      "Loss: 111.87978965044022\n"
     ]
    },
    {
     "name": "stderr",
     "output_type": "stream",
     "text": [
      "\n"
     ]
    }
   ],
   "source": [
    "losses = []\n",
    "\n",
    "for i in tqdm.tqdm(range(20)):\n",
    "    loss = 0\n",
    "    for j, (data, target) in tqdm.tqdm(enumerate(dataloader)):\n",
    "        optimizer.zero_grad()\n",
    "\n",
    "        prediction = model.forward(data)\n",
    "      \n",
    "        #print(\"Pred, target\", prediction[0], target[0], prediction.shape, target.shape)\n",
    "\n",
    "        batch_loss = mse_loss(prediction, target)\n",
    "        batch_loss.backward()\n",
    "        optimizer.step()\n",
    "\n",
    "        loss += batch_loss.detach().item()\n",
    "        #print(\"Loss:\", batch_loss.detach().item())\n",
    "    losses.append(loss)\n",
    "    print(\"Loss:\", losses[-1])"
   ]
  },
  {
   "cell_type": "code",
   "execution_count": 12,
   "metadata": {},
   "outputs": [
    {
     "data": {
      "image/png": "[encoded data removed]",
      "text/plain": [
       "<Figure size 640x480 with 1 Axes>"
      ]
     },
     "metadata": {},
     "output_type": "display_data"
    }
   ],
   "source": [
    "plt.plot(losses, label=\"training loss\")\n",
    "plt.xlabel(\"epochs\")\n",
    "plt.ylabel(\"MSE Loss\")\n",
    "plt.legend()\n",
    "plt.show()\n"
   ]
  },
  {
   "cell_type": "markdown",
   "metadata": {},
   "source": [
    "### Make predictions and compute MSE"
   ]
  },
  {
   "cell_type": "code",
   "execution_count": 13,
   "metadata": {},
   "outputs": [
    {
     "name": "stderr",
     "output_type": "stream",
     "text": [
      "/home/coco/anaconda3/lib/python3.9/site-packages/numpy/core/fromnumeric.py:3430: FutureWarning: Dropping of nuisance columns in DataFrame reductions (with 'numeric_only=None') is deprecated; in a future version this will raise TypeError.  Select only valid columns before calling the reduction.\n",
      "  return mean(axis=axis, dtype=dtype, out=out, **kwargs)\n",
      "/home/coco/anaconda3/lib/python3.9/site-packages/numpy/core/fromnumeric.py:3571: FutureWarning: Dropping of nuisance columns in DataFrame reductions (with 'numeric_only=None') is deprecated; in a future version this will raise TypeError.  Select only valid columns before calling the reduction.\n",
      "  return std(axis=axis, dtype=dtype, out=out, ddof=ddof, **kwargs)\n"
     ]
    }
   ],
   "source": [
    "orig_df_test = pd.read_csv(test_file)\n",
    "df_test_std = np.mean(orig_df_test, axis=1)\n",
    "df_test_std = np.std(orig_df_test, axis=1)"
   ]
  },
  {
   "cell_type": "code",
   "execution_count": 14,
   "metadata": {},
   "outputs": [
    {
     "name": "stdout",
     "output_type": "stream",
     "text": [
      "[[9.33021659]\n",
      " [8.27704492]\n",
      " [8.27704492]\n",
      " ...\n",
      " [8.62761338]\n",
      " [8.27704492]\n",
      " [8.27704492]]\n",
      "(3644,) torch.Size([3644, 1]) torch.Size([3644, 433]) <class 'torch.Tensor'>\n"
     ]
    }
   ],
   "source": [
    "# Make predictions\n",
    "with torch.no_grad():\n",
    "    y_test_pred = model(df_test_tensor)\n",
    "\n",
    "y_test_pred_inv_transformed = scaler.inverse_transform(y_test_pred)\n",
    "print(y_test_pred_inv_transformed)\n",
    "print(test_ids.shape, y_test_pred.shape, df_test_tensor.shape, type(y_test_pred))\n",
    "out = np.column_stack([test_ids, y_test_pred_inv_transformed])\n",
    "out = pd.DataFrame(out, columns=[\"id\", \"bg+1:00\"])\n",
    "\n",
    "out.to_csv(\"submission.csv\", index=False)"
   ]
  }
 ],
 "metadata": {
  "kernelspec": {
   "display_name": "base",
   "language": "python",
   "name": "python3"
  },
  "language_info": {
   "codemirror_mode": {
    "name": "ipython",
    "version": 3
   },
   "file_extension": ".py",
   "mimetype": "text/x-python",
   "name": "python",
   "nbconvert_exporter": "python",
   "pygments_lexer": "ipython3",
   "version": "3.9.13"
  }
 },
 "nbformat": 4,
 "nbformat_minor": 2
}
