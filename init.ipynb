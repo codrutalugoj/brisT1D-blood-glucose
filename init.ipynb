{
 "cells": [
  {
   "cell_type": "code",
   "execution_count": 1,
   "metadata": {},
   "outputs": [],
   "source": [
    "import pandas as pd\n",
    "import numpy as np\n",
    "import sklearn"
   ]
  },
  {
   "cell_type": "code",
   "execution_count": 2,
   "metadata": {},
   "outputs": [
    {
     "name": "stderr",
     "output_type": "stream",
     "text": [
      "/tmp/ipykernel_7726/3541279535.py:4: DtypeWarning: Columns (435,436,437,438,439,440,441,442,443,444,445,446,447,448,449,450,451,452,453,454,455,456,457,458,459,460,461,462,463,464,465,466,467,468,469,470,471,472,473,474,475,476,477,478,479,480,481,482,483,484,485,486,487,488,489,490,491,492,493,494,495,496,497,498,499,500,501,502,503,504,505,506) have mixed types. Specify dtype option on import or set low_memory=False.\n",
      "  df = pd.read_csv(train_file)\n"
     ]
    },
    {
     "data": {
      "text/plain": [
       "id               category\n",
       "p_num            category\n",
       "time             category\n",
       "bg-5:55           float64\n",
       "bg-5:50           float64\n",
       "                   ...   \n",
       "activity-0:15    category\n",
       "activity-0:10    category\n",
       "activity-0:05    category\n",
       "activity-0:00    category\n",
       "bg+1:00           float64\n",
       "Length: 508, dtype: object"
      ]
     },
     "execution_count": 2,
     "metadata": {},
     "output_type": "execute_result"
    }
   ],
   "source": [
    "train_file = \"./kaggle/brist1d/train.csv\"\n",
    "#test_file = \"./kaggle/brist1d/test.csv\"\n",
    "\n",
    "df = pd.read_csv(train_file)\n",
    "#df_test = pd.read_csv(test_file)\n",
    "\n",
    "for col in df.columns:\n",
    "    if df[col].dtype == 'object':\n",
    "        df[col] = df[col].astype('category')\n",
    "\n",
    "df.dtypes"
   ]
  },
  {
   "cell_type": "markdown",
   "metadata": {},
   "source": [
    "## Data Cleaning - handling missing values"
   ]
  },
  {
   "cell_type": "code",
   "execution_count": 3,
   "metadata": {},
   "outputs": [],
   "source": [
    "features = df.columns\n",
    "bg_cols = [col for col in features if \"bg\" in col]\n",
    "insulin_cols = [col for col in features if \"insulin\" in col]\n",
    "carbs_cols = [col for col in features if \"carbs\" in col]\n",
    "hr_cols = [col for col in features if \"hr\" in col]\n",
    "steps_cols = [col for col in features if \"steps\" in col]\n",
    "cals_cols = [col for col in features if \"cals\" in col]\n",
    "activity_cols = [col for col in features if \"activity\" in col]"
   ]
  },
  {
   "cell_type": "markdown",
   "metadata": {},
   "source": [
    "Fill missing values for features based on:\n",
    "- mean value: blood glucose, carbs, cals\n",
    "- zeroes: insulin\n",
    "- forward filled (i.e. propagates the last observation forward): heart rate, steps"
   ]
  },
  {
   "cell_type": "code",
   "execution_count": 4,
   "metadata": {},
   "outputs": [
    {
     "data": {
      "text/plain": [
       "id                    0\n",
       "p_num                 0\n",
       "time                  0\n",
       "bg-5:55               0\n",
       "bg-5:50               0\n",
       "                  ...  \n",
       "activity-0:15    174293\n",
       "activity-0:10    174287\n",
       "activity-0:05    174271\n",
       "activity-0:00    174287\n",
       "bg+1:00               0\n",
       "Length: 508, dtype: int64"
      ]
     },
     "execution_count": 4,
     "metadata": {},
     "output_type": "execute_result"
    }
   ],
   "source": [
    "for feature in [*bg_cols, *carbs_cols, *cals_cols]:\n",
    "    df[feature] = df[feature].fillna(df[feature].mean())\n",
    "\n",
    "for feature in insulin_cols:\n",
    "    df[feature] = df[feature].fillna(0)\n",
    "\n",
    "for feature in [*hr_cols, *steps_cols]:\n",
    "    df[feature] = df[feature].fillna(method=\"ffill\")\n",
    "\n",
    "df.isna().sum()"
   ]
  },
  {
   "cell_type": "markdown",
   "metadata": {},
   "source": [
    "### Fit a simple XGBoost regressor "
   ]
  },
  {
   "cell_type": "code",
   "execution_count": 5,
   "metadata": {},
   "outputs": [
    {
     "data": {
      "text/plain": [
       "Index(['bg-5:55', 'bg-5:50', 'bg-5:45', 'bg-5:40', 'bg-5:35', 'bg-5:30',\n",
       "       'bg-5:25', 'bg-5:20', 'bg-5:15', 'bg-5:10',\n",
       "       ...\n",
       "       'activity-0:40', 'activity-0:35', 'activity-0:30', 'activity-0:25',\n",
       "       'activity-0:20', 'activity-0:15', 'activity-0:10', 'activity-0:05',\n",
       "       'activity-0:00', 'bg+1:00'],\n",
       "      dtype='object', length=505)"
      ]
     },
     "execution_count": 5,
     "metadata": {},
     "output_type": "execute_result"
    }
   ],
   "source": [
    "#df = df.drop([\"p_num\", \"id\", \"time\", *activity_cols], axis=1)\n",
    "df = df.drop([\"p_num\", \"id\", \"time\"], axis=1)\n",
    "X = df.drop(\"bg+1:00\", axis=1)\n",
    "y = df[\"bg+1:00\"]\n",
    "df.columns"
   ]
  },
  {
   "cell_type": "code",
   "execution_count": 6,
   "metadata": {},
   "outputs": [],
   "source": [
    "from sklearn.model_selection import train_test_split\n",
    "from sklearn.metrics import mean_squared_error, r2_score\n",
    "from xgboost import XGBRegressor\n",
    "from sklearn.preprocessing import StandardScaler"
   ]
  },
  {
   "cell_type": "code",
   "execution_count": 7,
   "metadata": {},
   "outputs": [
    {
     "ename": "NameError",
     "evalue": "name 'X' is not defined",
     "output_type": "error",
     "traceback": [
      "\u001b[0;31m---------------------------------------------------------------------------\u001b[0m",
      "\u001b[0;31mNameError\u001b[0m                                 Traceback (most recent call last)",
      "\u001b[0;32m/tmp/ipykernel_400271/2455842359.py\u001b[0m in \u001b[0;36m<module>\u001b[0;34m\u001b[0m\n\u001b[0;32m----> 1\u001b[0;31m \u001b[0mX_train\u001b[0m\u001b[0;34m,\u001b[0m \u001b[0mX_test\u001b[0m\u001b[0;34m,\u001b[0m \u001b[0my_train\u001b[0m\u001b[0;34m,\u001b[0m \u001b[0my_test\u001b[0m \u001b[0;34m=\u001b[0m \u001b[0mtrain_test_split\u001b[0m\u001b[0;34m(\u001b[0m\u001b[0mX\u001b[0m\u001b[0;34m,\u001b[0m \u001b[0my\u001b[0m\u001b[0;34m,\u001b[0m \u001b[0mtest_size\u001b[0m\u001b[0;34m=\u001b[0m\u001b[0;36m0.2\u001b[0m\u001b[0;34m,\u001b[0m \u001b[0mrandom_state\u001b[0m\u001b[0;34m=\u001b[0m\u001b[0;36m42\u001b[0m\u001b[0;34m)\u001b[0m\u001b[0;34m\u001b[0m\u001b[0;34m\u001b[0m\u001b[0m\n\u001b[0m\u001b[1;32m      2\u001b[0m \u001b[0;34m\u001b[0m\u001b[0m\n\u001b[1;32m      3\u001b[0m \u001b[0;31m# Convert activity columns to category type\u001b[0m\u001b[0;34m\u001b[0m\u001b[0;34m\u001b[0m\u001b[0m\n\u001b[1;32m      4\u001b[0m \u001b[0;32mfor\u001b[0m \u001b[0mcol\u001b[0m \u001b[0;32min\u001b[0m \u001b[0mactivity_cols\u001b[0m\u001b[0;34m:\u001b[0m\u001b[0;34m\u001b[0m\u001b[0;34m\u001b[0m\u001b[0m\n\u001b[1;32m      5\u001b[0m     \u001b[0mX_train\u001b[0m\u001b[0;34m[\u001b[0m\u001b[0mcol\u001b[0m\u001b[0;34m]\u001b[0m \u001b[0;34m=\u001b[0m \u001b[0mX_train\u001b[0m\u001b[0;34m[\u001b[0m\u001b[0mcol\u001b[0m\u001b[0;34m]\u001b[0m\u001b[0;34m.\u001b[0m\u001b[0mastype\u001b[0m\u001b[0;34m(\u001b[0m\u001b[0;34m'category'\u001b[0m\u001b[0;34m)\u001b[0m\u001b[0;34m\u001b[0m\u001b[0;34m\u001b[0m\u001b[0m\n",
      "\u001b[0;31mNameError\u001b[0m: name 'X' is not defined"
     ]
    }
   ],
   "source": [
    "X_train, X_test, y_train, y_test = train_test_split(X, y, test_size=0.2, random_state=42)\n",
    "\n",
    "# Convert activity columns to category type\n",
    "for col in activity_cols:\n",
    "    X_train[col] = X_train[col].astype('category')\n",
    "    X_test[col] = X_test[col].astype('category')"
   ]
  },
  {
   "cell_type": "code",
   "execution_count": 8,
   "metadata": {},
   "outputs": [
    {
     "name": "stdout",
     "output_type": "stream",
     "text": [
      "Model Performance Metrics:\n",
      "RMSE: 1.9605\n",
      "R² Score: 0.5750\n"
     ]
    }
   ],
   "source": [
    "\n",
    "# 3. Scale the features\n",
    "scaler = StandardScaler()\n",
    "#X_train_scaled = scaler.fit_transform(X_train)\n",
    "#X_test_scaled = scaler.transform(X_test)\n",
    "X_train_scaled = X_train\n",
    "X_test_scaled = X_test\n",
    "\n",
    "feature_types = [\"c\" if feat in activity_cols else \"q\" for feat in X_train.columns]\n",
    "# 4. Initialize and train the XGBoost model\n",
    "xgb_model = XGBRegressor(\n",
    "    feature_types=feature_types,\n",
    "    n_estimators=100,\n",
    "    learning_rate=0.1,\n",
    "    max_depth=5,\n",
    "    min_child_weight=1,\n",
    "    subsample=0.8,\n",
    "    colsample_bytree=0.8,\n",
    "    eval_metric='rmse',\n",
    "    random_state=42,\n",
    "    enable_categorical=True\n",
    ")\n",
    "\n",
    "# Train the model\n",
    "xgb_model.fit(\n",
    "    X_train_scaled, \n",
    "    y_train,\n",
    "    eval_set=[(X_train_scaled, y_train), (X_test_scaled, y_test)],\n",
    "    verbose=False\n",
    ")\n",
    "\n",
    "# 5. Make predictions\n",
    "y_pred = xgb_model.predict(X_test_scaled)\n",
    "\n",
    "# 6. Evaluate the model\n",
    "mse = mean_squared_error(y_test, y_pred)\n",
    "rmse = np.sqrt(mse)\n",
    "r2 = r2_score(y_test, y_pred)\n",
    "\n",
    "print(f\"Model Performance Metrics:\")\n",
    "print(f\"RMSE: {rmse:.4f}\")\n",
    "print(f\"R² Score: {r2:.4f}\")"
   ]
  },
  {
   "cell_type": "code",
   "execution_count": 10,
   "metadata": {},
   "outputs": [
    {
     "data": {
      "text/plain": [
       "array([12.411012,  8.457562, 12.448939, ..., 10.205155,  9.483859,\n",
       "       10.063545], dtype=float32)"
      ]
     },
     "execution_count": 10,
     "metadata": {},
     "output_type": "execute_result"
    }
   ],
   "source": [
    "# X_testing = df_test.drop([\"p_num\", \"id\", \"time\", *activity_cols], axis=1)\n",
    "X_testing = df_test.drop([\"p_num\", \"id\", \"time\"], axis=1)\n",
    "\n",
    "for col in activity_cols:\n",
    "    X_testing[col] = X_testing[col].astype('category')\n",
    "    \n",
    "y_testing_pred = xgb_model.predict(X_testing)\n",
    "y_testing_pred"
   ]
  },
  {
   "cell_type": "markdown",
   "metadata": {},
   "source": [
    "### Writing the predictions to submission file\n",
    "Submission file has format: p_number, prediction_value"
   ]
  },
  {
   "cell_type": "code",
   "execution_count": 11,
   "metadata": {},
   "outputs": [
    {
     "name": "stdout",
     "output_type": "stream",
     "text": [
      "(3644,) (3644,) <class 'numpy.ndarray'>\n"
     ]
    }
   ],
   "source": [
    "print(df_test[\"id\"].shape, y_testing_pred.shape, type(y_testing_pred))\n",
    "#out = np.zeros((2, df_test[\"id\"].shape[0]))\n",
    "out = np.column_stack([df_test[\"id\"], y_testing_pred])\n",
    "out = pd.DataFrame(out, columns=[\"id\", \"bg+1:00\"])\n",
    "\n",
    "out.to_csv(\"submission.csv\", index=False)\n"
   ]
  },
  {
   "cell_type": "markdown",
   "metadata": {},
   "source": [
    "## Iteration 2.0"
   ]
  },
  {
   "cell_type": "code",
   "execution_count": 5,
   "metadata": {},
   "outputs": [],
   "source": [
    "import tqdm\n",
    "\n",
    "import torch\n",
    "import torch.nn as nn\n",
    "import torch.optim as optim\n",
    "import torch.nn.functional as F\n",
    "\n",
    "import numpy as np\n",
    "import matplotlib.pyplot as plt\n",
    "from sklearn.preprocessing import MinMaxScaler"
   ]
  },
  {
   "cell_type": "code",
   "execution_count": 6,
   "metadata": {},
   "outputs": [],
   "source": [
    "y = df[\"bg+1:00\"]\n",
    "df = df.drop(\"bg+1:00\", axis=1)\n",
    "\n",
    "df['time'] = pd.to_timedelta(df['time']).dt.total_seconds()\n",
    "\n",
    "# for now we just ignore participant profiles\n",
    "df.drop(columns=[\"p_num\", \"id\", *activity_cols], inplace=True)\n",
    "\n",
    "for t in df.dtypes:\n",
    "    if t != \"float64\":\n",
    "        print(t)"
   ]
  },
  {
   "cell_type": "code",
   "execution_count": 7,
   "metadata": {},
   "outputs": [
    {
     "name": "stdout",
     "output_type": "stream",
     "text": [
      "Data shape (177024, 433)\n"
     ]
    }
   ],
   "source": [
    "print(\"Data shape\", df.shape)"
   ]
  },
  {
   "cell_type": "markdown",
   "metadata": {},
   "source": [
    "### Normalize features"
   ]
  },
  {
   "cell_type": "code",
   "execution_count": 45,
   "metadata": {},
   "outputs": [
    {
     "name": "stdout",
     "output_type": "stream",
     "text": [
      "torch.Size([177024, 433])\n",
      "torch.Size([177024, 1])\n"
     ]
    }
   ],
   "source": [
    "from sklearn.preprocessing import StandardScaler\n",
    "import torch.utils\n",
    "import torch.utils.data\n",
    "\n",
    "# scale features\n",
    "scaler = StandardScaler()\n",
    "df = scaler.fit_transform(df)\n",
    "y = scaler.fit_transform(np.reshape(y.values, (-1, 1)))\n",
    "\n",
    "# transform to tensor and reshape\n",
    "df_tensor = torch.Tensor(df)\n",
    "y_tensor = torch.Tensor(y)\n",
    "print(df_tensor.shape)\n",
    "print(y_tensor.shape)\n",
    "\n",
    "# create dataloader\n",
    "dataset = torch.utils.data.TensorDataset(df_tensor, y_tensor)\n",
    "dataloader = torch.utils.data.DataLoader(dataset, batch_size=1024, shuffle=True)\n"
   ]
  },
  {
   "cell_type": "markdown",
   "metadata": {},
   "source": [
    "### RNN (LSTM)"
   ]
  },
  {
   "cell_type": "code",
   "execution_count": 46,
   "metadata": {},
   "outputs": [],
   "source": [
    "class RNN(nn.Module):\n",
    "    def __init__(self, input_size, hidden_size, num_layers, dropout=0.2):\n",
    "        super(RNN, self).__init__()\n",
    "        self.lstm = nn.LSTM(input_size=input_size, hidden_size=hidden_size, num_layers=num_layers, batch_first=True, dropout=dropout)\n",
    "        self.activ = nn.ReLU()\n",
    "        self.linear = nn.Linear(hidden_size, 1)\n",
    "\n",
    "    def forward(self, x):\n",
    "        out, _ = self.lstm(x)\n",
    "        out = self.activ(out)\n",
    "        pred = self.linear(out)\n",
    "\n",
    "        return pred\n",
    "\n",
    "model = RNN(input_size=df_tensor.size(1), hidden_size=256, num_layers=3)"
   ]
  },
  {
   "cell_type": "code",
   "execution_count": 47,
   "metadata": {},
   "outputs": [],
   "source": [
    "optimizer = optim.Adam(model.parameters(), lr=0.005)\n",
    "mse_loss = torch.nn.MSELoss()"
   ]
  },
  {
   "cell_type": "code",
   "execution_count": 48,
   "metadata": {},
   "outputs": [
    {
     "name": "stderr",
     "output_type": "stream",
     "text": [
      "  0%|          | 0/10 [00:00<?, ?it/s]/home/coco/anaconda3/lib/python3.9/site-packages/torch/nn/modules/loss.py:535: UserWarning: Using a target size (torch.Size([1024, 1])) that is different to the input size (torch.Size([1024])). This will likely lead to incorrect results due to broadcasting. Please ensure they have the same size.\n",
      "  return F.mse_loss(input, target, reduction=self.reduction)\n"
     ]
    },
    {
     "name": "stdout",
     "output_type": "stream",
     "text": [
      "Pred, target tensor(0.0566, grad_fn=<SelectBackward0>) tensor([0.3748]) torch.Size([1024]) torch.Size([1024, 1])\n",
      "Loss: nan\n"
     ]
    },
    {
     "name": "stderr",
     "output_type": "stream",
     "text": []
    },
    {
     "name": "stdout",
     "output_type": "stream",
     "text": [
      "Pred, target tensor(nan, grad_fn=<SelectBackward0>) tensor([-0.3261]) torch.Size([1024]) torch.Size([1024, 1])\n",
      "Loss: nan\n"
     ]
    },
    {
     "name": "stderr",
     "output_type": "stream",
     "text": []
    },
    {
     "name": "stdout",
     "output_type": "stream",
     "text": [
      "Pred, target tensor(nan, grad_fn=<SelectBackward0>) tensor([-0.6932]) torch.Size([1024]) torch.Size([1024, 1])\n",
      "Loss: nan\n",
      "Pred, target tensor(nan, grad_fn=<SelectBackward0>) tensor([0.1412]) torch.Size([1024]) torch.Size([1024, 1])\n"
     ]
    },
    {
     "name": "stderr",
     "output_type": "stream",
     "text": []
    },
    {
     "name": "stdout",
     "output_type": "stream",
     "text": [
      "Loss: nan\n",
      "Pred, target tensor(nan, grad_fn=<SelectBackward0>) tensor([-0.9935]) torch.Size([1024]) torch.Size([1024, 1])\n"
     ]
    },
    {
     "name": "stderr",
     "output_type": "stream",
     "text": []
    },
    {
     "name": "stdout",
     "output_type": "stream",
     "text": [
      "Loss: nan\n",
      "Pred, target tensor(nan, grad_fn=<SelectBackward0>) tensor([0.1412]) torch.Size([1024]) torch.Size([1024, 1])\n"
     ]
    },
    {
     "name": "stderr",
     "output_type": "stream",
     "text": []
    },
    {
     "name": "stdout",
     "output_type": "stream",
     "text": [
      "Loss: nan\n",
      "Pred, target tensor(nan, grad_fn=<SelectBackward0>) tensor([2.7109]) torch.Size([1024]) torch.Size([1024, 1])\n"
     ]
    },
    {
     "name": "stderr",
     "output_type": "stream",
     "text": []
    },
    {
     "name": "stdout",
     "output_type": "stream",
     "text": [
      "Loss: nan\n",
      "Pred, target tensor(nan, grad_fn=<SelectBackward0>) tensor([1.3426]) torch.Size([1024]) torch.Size([1024, 1])\n"
     ]
    },
    {
     "name": "stderr",
     "output_type": "stream",
     "text": []
    },
    {
     "name": "stdout",
     "output_type": "stream",
     "text": [
      "Loss: nan\n",
      "Pred, target tensor(nan, grad_fn=<SelectBackward0>) tensor([-0.9935]) torch.Size([1024]) torch.Size([1024, 1])\n"
     ]
    },
    {
     "name": "stderr",
     "output_type": "stream",
     "text": []
    },
    {
     "name": "stdout",
     "output_type": "stream",
     "text": [
      "Loss: nan\n",
      "Pred, target tensor(nan, grad_fn=<SelectBackward0>) tensor([-1.0269]) torch.Size([1024]) torch.Size([1024, 1])\n"
     ]
    },
    {
     "name": "stderr",
     "output_type": "stream",
     "text": []
    },
    {
     "name": "stdout",
     "output_type": "stream",
     "text": [
      "Loss: nan\n",
      "Pred, target tensor(nan, grad_fn=<SelectBackward0>) tensor([0.2413]) torch.Size([1024]) torch.Size([1024, 1])\n"
     ]
    },
    {
     "name": "stderr",
     "output_type": "stream",
     "text": []
    },
    {
     "name": "stdout",
     "output_type": "stream",
     "text": [
      "Loss: nan\n",
      "Pred, target tensor(nan, grad_fn=<SelectBackward0>) tensor([-0.6932]) torch.Size([1024]) torch.Size([1024, 1])\n",
      "Loss: nan\n"
     ]
    },
    {
     "name": "stderr",
     "output_type": "stream",
     "text": []
    },
    {
     "name": "stdout",
     "output_type": "stream",
     "text": [
      "Pred, target tensor(nan, grad_fn=<SelectBackward0>) tensor([-0.2927]) torch.Size([1024]) torch.Size([1024, 1])\n",
      "Loss: nan\n",
      "Pred, target tensor(nan, grad_fn=<SelectBackward0>) tensor([0.6418]) torch.Size([1024]) torch.Size([1024, 1])\n"
     ]
    },
    {
     "name": "stderr",
     "output_type": "stream",
     "text": []
    },
    {
     "name": "stdout",
     "output_type": "stream",
     "text": [
      "Loss: nan\n",
      "Pred, target tensor(nan, grad_fn=<SelectBackward0>) tensor([-0.5263]) torch.Size([1024]) torch.Size([1024, 1])\n",
      "Loss: nan\n"
     ]
    },
    {
     "name": "stderr",
     "output_type": "stream",
     "text": []
    },
    {
     "name": "stdout",
     "output_type": "stream",
     "text": [
      "Pred, target tensor(nan, grad_fn=<SelectBackward0>) tensor([0.6751]) torch.Size([1024]) torch.Size([1024, 1])\n",
      "Loss: nan\n",
      "Pred, target tensor(nan, grad_fn=<SelectBackward0>) tensor([-1.2939]) torch.Size([1024]) torch.Size([1024, 1])\n"
     ]
    },
    {
     "name": "stderr",
     "output_type": "stream",
     "text": []
    },
    {
     "name": "stdout",
     "output_type": "stream",
     "text": [
      "Loss: nan\n",
      "Pred, target tensor(nan, grad_fn=<SelectBackward0>) tensor([-0.2927]) torch.Size([1024]) torch.Size([1024, 1])\n"
     ]
    },
    {
     "name": "stderr",
     "output_type": "stream",
     "text": []
    },
    {
     "name": "stdout",
     "output_type": "stream",
     "text": [
      "Loss: nan\n",
      "Pred, target tensor(nan, grad_fn=<SelectBackward0>) tensor([-0.6932]) torch.Size([1024]) torch.Size([1024, 1])\n",
      "Loss: nan\n"
     ]
    },
    {
     "name": "stderr",
     "output_type": "stream",
     "text": []
    },
    {
     "name": "stdout",
     "output_type": "stream",
     "text": [
      "Pred, target tensor(nan, grad_fn=<SelectBackward0>) tensor([1.0756]) torch.Size([1024]) torch.Size([1024, 1])\n",
      "Loss: nan\n",
      "Pred, target tensor(nan, grad_fn=<SelectBackward0>) tensor([1.0089]) torch.Size([1024]) torch.Size([1024, 1])\n"
     ]
    },
    {
     "name": "stderr",
     "output_type": "stream",
     "text": []
    },
    {
     "name": "stdout",
     "output_type": "stream",
     "text": [
      "Loss: nan\n",
      "Pred, target tensor(nan, grad_fn=<SelectBackward0>) tensor([-0.4929]) torch.Size([1024]) torch.Size([1024, 1])\n",
      "Loss: nan\n"
     ]
    },
    {
     "name": "stderr",
     "output_type": "stream",
     "text": []
    },
    {
     "name": "stdout",
     "output_type": "stream",
     "text": [
      "Pred, target tensor(nan, grad_fn=<SelectBackward0>) tensor([-0.5597]) torch.Size([1024]) torch.Size([1024, 1])\n",
      "Loss: nan\n",
      "Pred, target tensor(nan, grad_fn=<SelectBackward0>) tensor([0.4081]) torch.Size([1024]) torch.Size([1024, 1])\n"
     ]
    },
    {
     "name": "stderr",
     "output_type": "stream",
     "text": []
    },
    {
     "name": "stdout",
     "output_type": "stream",
     "text": [
      "Loss: nan\n",
      "Pred, target tensor(nan, grad_fn=<SelectBackward0>) tensor([1.6096]) torch.Size([1024]) torch.Size([1024, 1])\n"
     ]
    },
    {
     "name": "stderr",
     "output_type": "stream",
     "text": []
    },
    {
     "name": "stdout",
     "output_type": "stream",
     "text": [
      "Loss: nan\n",
      "Pred, target tensor(nan, grad_fn=<SelectBackward0>) tensor([-0.2593]) torch.Size([1024]) torch.Size([1024, 1])\n"
     ]
    },
    {
     "name": "stderr",
     "output_type": "stream",
     "text": []
    },
    {
     "name": "stdout",
     "output_type": "stream",
     "text": [
      "Loss: nan\n",
      "Pred, target tensor(nan, grad_fn=<SelectBackward0>) tensor([0.5083]) torch.Size([1024]) torch.Size([1024, 1])\n",
      "Loss: nan\n"
     ]
    },
    {
     "name": "stderr",
     "output_type": "stream",
     "text": []
    },
    {
     "name": "stdout",
     "output_type": "stream",
     "text": [
      "Pred, target tensor(nan, grad_fn=<SelectBackward0>) tensor([-0.4929]) torch.Size([1024]) torch.Size([1024, 1])\n",
      "Loss: nan\n"
     ]
    },
    {
     "name": "stderr",
     "output_type": "stream",
     "text": []
    },
    {
     "name": "stdout",
     "output_type": "stream",
     "text": [
      "Pred, target tensor(nan, grad_fn=<SelectBackward0>) tensor([0.4749]) torch.Size([1024]) torch.Size([1024, 1])\n",
      "Loss: nan\n"
     ]
    },
    {
     "name": "stderr",
     "output_type": "stream",
     "text": []
    },
    {
     "name": "stdout",
     "output_type": "stream",
     "text": [
      "Pred, target tensor(nan, grad_fn=<SelectBackward0>) tensor([-0.9602]) torch.Size([1024]) torch.Size([1024, 1])\n",
      "Loss: nan\n"
     ]
    },
    {
     "name": "stderr",
     "output_type": "stream",
     "text": []
    },
    {
     "name": "stdout",
     "output_type": "stream",
     "text": [
      "Pred, target tensor(nan, grad_fn=<SelectBackward0>) tensor([-1.0269]) torch.Size([1024]) torch.Size([1024, 1])\n",
      "Loss: nan\n"
     ]
    },
    {
     "name": "stderr",
     "output_type": "stream",
     "text": []
    },
    {
     "name": "stdout",
     "output_type": "stream",
     "text": [
      "Pred, target tensor(nan, grad_fn=<SelectBackward0>) tensor([-0.3261]) torch.Size([1024]) torch.Size([1024, 1])\n",
      "Loss: nan\n"
     ]
    },
    {
     "name": "stderr",
     "output_type": "stream",
     "text": []
    },
    {
     "name": "stdout",
     "output_type": "stream",
     "text": [
      "Pred, target tensor(nan, grad_fn=<SelectBackward0>) tensor([-1.2272]) torch.Size([1024]) torch.Size([1024, 1])\n",
      "Loss: nan\n"
     ]
    },
    {
     "name": "stderr",
     "output_type": "stream",
     "text": []
    },
    {
     "name": "stdout",
     "output_type": "stream",
     "text": [
      "Pred, target tensor(nan, grad_fn=<SelectBackward0>) tensor([-1.0269]) torch.Size([1024]) torch.Size([1024, 1])\n",
      "Loss: nan\n"
     ]
    },
    {
     "name": "stderr",
     "output_type": "stream",
     "text": []
    },
    {
     "name": "stdout",
     "output_type": "stream",
     "text": [
      "Pred, target tensor(nan, grad_fn=<SelectBackward0>) tensor([-0.7933]) torch.Size([1024]) torch.Size([1024, 1])\n",
      "Loss: nan\n"
     ]
    },
    {
     "name": "stderr",
     "output_type": "stream",
     "text": []
    },
    {
     "name": "stdout",
     "output_type": "stream",
     "text": [
      "Pred, target tensor(nan, grad_fn=<SelectBackward0>) tensor([-0.4262]) torch.Size([1024]) torch.Size([1024, 1])\n",
      "Loss: nan\n"
     ]
    },
    {
     "name": "stderr",
     "output_type": "stream",
     "text": []
    },
    {
     "name": "stdout",
     "output_type": "stream",
     "text": [
      "Pred, target tensor(nan, grad_fn=<SelectBackward0>) tensor([-0.6598]) torch.Size([1024]) torch.Size([1024, 1])\n",
      "Loss: nan\n"
     ]
    },
    {
     "name": "stderr",
     "output_type": "stream",
     "text": []
    },
    {
     "name": "stdout",
     "output_type": "stream",
     "text": [
      "Pred, target tensor(nan, grad_fn=<SelectBackward0>) tensor([-0.2927]) torch.Size([1024]) torch.Size([1024, 1])\n",
      "Loss: nan\n"
     ]
    },
    {
     "name": "stderr",
     "output_type": "stream",
     "text": []
    },
    {
     "name": "stdout",
     "output_type": "stream",
     "text": [
      "Pred, target tensor(nan, grad_fn=<SelectBackward0>) tensor([1.6430]) torch.Size([1024]) torch.Size([1024, 1])\n",
      "Loss: nan\n"
     ]
    },
    {
     "name": "stderr",
     "output_type": "stream",
     "text": []
    },
    {
     "name": "stdout",
     "output_type": "stream",
     "text": [
      "Pred, target tensor(nan, grad_fn=<SelectBackward0>) tensor([0.1078]) torch.Size([1024]) torch.Size([1024, 1])\n",
      "Loss: nan\n"
     ]
    },
    {
     "name": "stderr",
     "output_type": "stream",
     "text": []
    },
    {
     "name": "stdout",
     "output_type": "stream",
     "text": [
      "Pred, target tensor(nan, grad_fn=<SelectBackward0>) tensor([0.3748]) torch.Size([1024]) torch.Size([1024, 1])\n",
      "Loss: nan\n"
     ]
    },
    {
     "name": "stderr",
     "output_type": "stream",
     "text": []
    },
    {
     "name": "stdout",
     "output_type": "stream",
     "text": [
      "Pred, target tensor(nan, grad_fn=<SelectBackward0>) tensor([0.9087]) torch.Size([1024]) torch.Size([1024, 1])\n",
      "Loss: nan\n"
     ]
    },
    {
     "name": "stderr",
     "output_type": "stream",
     "text": []
    },
    {
     "name": "stdout",
     "output_type": "stream",
     "text": [
      "Pred, target tensor(nan, grad_fn=<SelectBackward0>) tensor([0.6751]) torch.Size([1024]) torch.Size([1024, 1])\n",
      "Loss: nan\n"
     ]
    },
    {
     "name": "stderr",
     "output_type": "stream",
     "text": []
    },
    {
     "name": "stdout",
     "output_type": "stream",
     "text": [
      "Pred, target tensor(nan, grad_fn=<SelectBackward0>) tensor([2.0434]) torch.Size([1024]) torch.Size([1024, 1])\n",
      "Loss: nan\n"
     ]
    },
    {
     "name": "stderr",
     "output_type": "stream",
     "text": []
    },
    {
     "name": "stdout",
     "output_type": "stream",
     "text": [
      "Pred, target tensor(nan, grad_fn=<SelectBackward0>) tensor([-0.7266]) torch.Size([1024]) torch.Size([1024, 1])\n",
      "Loss: nan\n"
     ]
    },
    {
     "name": "stderr",
     "output_type": "stream",
     "text": []
    },
    {
     "name": "stdout",
     "output_type": "stream",
     "text": [
      "Pred, target tensor(nan, grad_fn=<SelectBackward0>) tensor([-0.3261]) torch.Size([1024]) torch.Size([1024, 1])\n",
      "Loss: nan\n"
     ]
    },
    {
     "name": "stderr",
     "output_type": "stream",
     "text": []
    },
    {
     "name": "stdout",
     "output_type": "stream",
     "text": [
      "Pred, target tensor(nan, grad_fn=<SelectBackward0>) tensor([-0.1592]) torch.Size([1024]) torch.Size([1024, 1])\n",
      "Loss: nan\n"
     ]
    },
    {
     "name": "stderr",
     "output_type": "stream",
     "text": []
    },
    {
     "name": "stdout",
     "output_type": "stream",
     "text": [
      "Pred, target tensor(nan, grad_fn=<SelectBackward0>) tensor([0.3414]) torch.Size([1024]) torch.Size([1024, 1])\n",
      "Loss: nan\n"
     ]
    },
    {
     "name": "stderr",
     "output_type": "stream",
     "text": []
    },
    {
     "name": "stdout",
     "output_type": "stream",
     "text": [
      "Pred, target tensor(nan, grad_fn=<SelectBackward0>) tensor([0.7419]) torch.Size([1024]) torch.Size([1024, 1])\n",
      "Loss: nan\n"
     ]
    },
    {
     "name": "stderr",
     "output_type": "stream",
     "text": []
    },
    {
     "name": "stdout",
     "output_type": "stream",
     "text": [
      "Pred, target tensor(nan, grad_fn=<SelectBackward0>) tensor([-0.5931]) torch.Size([1024]) torch.Size([1024, 1])\n",
      "Loss: nan\n"
     ]
    },
    {
     "name": "stderr",
     "output_type": "stream",
     "text": []
    },
    {
     "name": "stdout",
     "output_type": "stream",
     "text": [
      "Pred, target tensor(nan, grad_fn=<SelectBackward0>) tensor([-0.3594]) torch.Size([1024]) torch.Size([1024, 1])\n",
      "Loss: nan\n",
      "Pred, target tensor(nan, grad_fn=<SelectBackward0>) tensor([-0.1258]) torch.Size([1024]) torch.Size([1024, 1])\n"
     ]
    },
    {
     "name": "stderr",
     "output_type": "stream",
     "text": []
    },
    {
     "name": "stdout",
     "output_type": "stream",
     "text": [
      "Loss: nan\n",
      "Pred, target tensor(nan, grad_fn=<SelectBackward0>) tensor([-0.7266]) torch.Size([1024]) torch.Size([1024, 1])\n"
     ]
    },
    {
     "name": "stderr",
     "output_type": "stream",
     "text": []
    },
    {
     "name": "stdout",
     "output_type": "stream",
     "text": [
      "Loss: nan\n",
      "Pred, target tensor(nan, grad_fn=<SelectBackward0>) tensor([-0.9268]) torch.Size([1024]) torch.Size([1024, 1])\n"
     ]
    },
    {
     "name": "stderr",
     "output_type": "stream",
     "text": []
    },
    {
     "name": "stdout",
     "output_type": "stream",
     "text": [
      "Loss: nan\n",
      "Pred, target tensor(nan, grad_fn=<SelectBackward0>) tensor([-0.3928]) torch.Size([1024]) torch.Size([1024, 1])\n"
     ]
    },
    {
     "name": "stderr",
     "output_type": "stream",
     "text": []
    },
    {
     "name": "stdout",
     "output_type": "stream",
     "text": [
      "Loss: nan\n",
      "Pred, target tensor(nan, grad_fn=<SelectBackward0>) tensor([0.8086]) torch.Size([1024]) torch.Size([1024, 1])\n"
     ]
    },
    {
     "name": "stderr",
     "output_type": "stream",
     "text": []
    },
    {
     "name": "stdout",
     "output_type": "stream",
     "text": [
      "Loss: nan\n"
     ]
    },
    {
     "name": "stderr",
     "output_type": "stream",
     "text": []
    },
    {
     "name": "stdout",
     "output_type": "stream",
     "text": [
      "Pred, target tensor(nan, grad_fn=<SelectBackward0>) tensor([0.0744]) torch.Size([1024]) torch.Size([1024, 1])\n",
      "Loss: nan\n"
     ]
    },
    {
     "name": "stderr",
     "output_type": "stream",
     "text": []
    },
    {
     "name": "stdout",
     "output_type": "stream",
     "text": [
      "Pred, target tensor(nan, grad_fn=<SelectBackward0>) tensor([-1.3940]) torch.Size([1024]) torch.Size([1024, 1])\n",
      "Loss: nan\n"
     ]
    },
    {
     "name": "stderr",
     "output_type": "stream",
     "text": []
    },
    {
     "name": "stdout",
     "output_type": "stream",
     "text": [
      "Pred, target tensor(nan, grad_fn=<SelectBackward0>) tensor([3.0113]) torch.Size([1024]) torch.Size([1024, 1])\n",
      "Loss: nan\n"
     ]
    },
    {
     "name": "stderr",
     "output_type": "stream",
     "text": []
    },
    {
     "name": "stdout",
     "output_type": "stream",
     "text": [
      "Pred, target tensor(nan, grad_fn=<SelectBackward0>) tensor([1.0422]) torch.Size([1024]) torch.Size([1024, 1])\n",
      "Loss: nan\n"
     ]
    },
    {
     "name": "stderr",
     "output_type": "stream",
     "text": []
    },
    {
     "name": "stdout",
     "output_type": "stream",
     "text": [
      "Pred, target tensor(nan, grad_fn=<SelectBackward0>) tensor([-0.2593]) torch.Size([1024]) torch.Size([1024, 1])\n",
      "Loss: nan\n"
     ]
    },
    {
     "name": "stderr",
     "output_type": "stream",
     "text": []
    },
    {
     "name": "stdout",
     "output_type": "stream",
     "text": [
      "Pred, target tensor(nan, grad_fn=<SelectBackward0>) tensor([-0.9602]) torch.Size([1024]) torch.Size([1024, 1])\n",
      "Loss: nan\n"
     ]
    },
    {
     "name": "stderr",
     "output_type": "stream",
     "text": []
    },
    {
     "name": "stdout",
     "output_type": "stream",
     "text": [
      "Pred, target tensor(nan, grad_fn=<SelectBackward0>) tensor([-0.1592]) torch.Size([1024]) torch.Size([1024, 1])\n",
      "Loss: nan\n"
     ]
    },
    {
     "name": "stderr",
     "output_type": "stream",
     "text": []
    },
    {
     "name": "stdout",
     "output_type": "stream",
     "text": [
      "Pred, target tensor(nan, grad_fn=<SelectBackward0>) tensor([-0.0925]) torch.Size([1024]) torch.Size([1024, 1])\n",
      "Loss: nan\n"
     ]
    },
    {
     "name": "stderr",
     "output_type": "stream",
     "text": []
    },
    {
     "name": "stdout",
     "output_type": "stream",
     "text": [
      "Pred, target tensor(nan, grad_fn=<SelectBackward0>) tensor([-1.6276]) torch.Size([1024]) torch.Size([1024, 1])\n",
      "Loss: nan\n"
     ]
    },
    {
     "name": "stderr",
     "output_type": "stream",
     "text": []
    },
    {
     "name": "stdout",
     "output_type": "stream",
     "text": [
      "Pred, target tensor(nan, grad_fn=<SelectBackward0>) tensor([2.2103]) torch.Size([1024]) torch.Size([1024, 1])\n",
      "Loss: nan\n"
     ]
    },
    {
     "name": "stderr",
     "output_type": "stream",
     "text": []
    },
    {
     "name": "stdout",
     "output_type": "stream",
     "text": [
      "Pred, target tensor(nan, grad_fn=<SelectBackward0>) tensor([-0.6932]) torch.Size([1024]) torch.Size([1024, 1])\n",
      "Loss: nan\n"
     ]
    },
    {
     "name": "stderr",
     "output_type": "stream",
     "text": []
    },
    {
     "name": "stdout",
     "output_type": "stream",
     "text": [
      "Pred, target tensor(nan, grad_fn=<SelectBackward0>) tensor([-0.7933]) torch.Size([1024]) torch.Size([1024, 1])\n",
      "Loss: nan\n"
     ]
    },
    {
     "name": "stderr",
     "output_type": "stream",
     "text": []
    },
    {
     "name": "stdout",
     "output_type": "stream",
     "text": [
      "Pred, target tensor(nan, grad_fn=<SelectBackward0>) tensor([-0.5263]) torch.Size([1024]) torch.Size([1024, 1])\n",
      "Loss: nan\n"
     ]
    },
    {
     "name": "stderr",
     "output_type": "stream",
     "text": []
    },
    {
     "name": "stdout",
     "output_type": "stream",
     "text": [
      "Pred, target tensor(nan, grad_fn=<SelectBackward0>) tensor([0.7419]) torch.Size([1024]) torch.Size([1024, 1])\n",
      "Loss: nan\n"
     ]
    },
    {
     "name": "stderr",
     "output_type": "stream",
     "text": []
    },
    {
     "name": "stdout",
     "output_type": "stream",
     "text": [
      "Pred, target tensor(nan, grad_fn=<SelectBackward0>) tensor([-0.3594]) torch.Size([1024]) torch.Size([1024, 1])\n",
      "Loss: nan\n"
     ]
    },
    {
     "name": "stderr",
     "output_type": "stream",
     "text": []
    },
    {
     "name": "stdout",
     "output_type": "stream",
     "text": [
      "Pred, target tensor(nan, grad_fn=<SelectBackward0>) tensor([1.3426]) torch.Size([1024]) torch.Size([1024, 1])\n",
      "Loss: nan\n"
     ]
    },
    {
     "name": "stderr",
     "output_type": "stream",
     "text": []
    },
    {
     "name": "stdout",
     "output_type": "stream",
     "text": [
      "Pred, target tensor(nan, grad_fn=<SelectBackward0>) tensor([-0.1592]) torch.Size([1024]) torch.Size([1024, 1])\n",
      "Loss: nan\n"
     ]
    },
    {
     "name": "stderr",
     "output_type": "stream",
     "text": []
    },
    {
     "name": "stdout",
     "output_type": "stream",
     "text": [
      "Pred, target tensor(nan, grad_fn=<SelectBackward0>) tensor([-0.6598]) torch.Size([1024]) torch.Size([1024, 1])\n",
      "Loss: nan\n"
     ]
    },
    {
     "name": "stderr",
     "output_type": "stream",
     "text": []
    },
    {
     "name": "stdout",
     "output_type": "stream",
     "text": [
      "Pred, target tensor(nan, grad_fn=<SelectBackward0>) tensor([-1.5275]) torch.Size([1024]) torch.Size([1024, 1])\n",
      "Loss: nan\n"
     ]
    },
    {
     "name": "stderr",
     "output_type": "stream",
     "text": []
    },
    {
     "name": "stdout",
     "output_type": "stream",
     "text": [
      "Pred, target tensor(nan, grad_fn=<SelectBackward0>) tensor([-0.2593]) torch.Size([1024]) torch.Size([1024, 1])\n",
      "Loss: nan\n"
     ]
    },
    {
     "name": "stderr",
     "output_type": "stream",
     "text": []
    },
    {
     "name": "stdout",
     "output_type": "stream",
     "text": [
      "Pred, target tensor(nan, grad_fn=<SelectBackward0>) tensor([-0.7933]) torch.Size([1024]) torch.Size([1024, 1])\n",
      "Loss: nan\n"
     ]
    },
    {
     "name": "stderr",
     "output_type": "stream",
     "text": []
    },
    {
     "name": "stdout",
     "output_type": "stream",
     "text": [
      "Pred, target tensor(nan, grad_fn=<SelectBackward0>) tensor([0.3748]) torch.Size([1024]) torch.Size([1024, 1])\n",
      "Loss: nan\n"
     ]
    },
    {
     "name": "stderr",
     "output_type": "stream",
     "text": [
      "78it [00:18,  4.11it/s]\n",
      "  0%|          | 0/10 [00:18<?, ?it/s]"
     ]
    },
    {
     "name": "stdout",
     "output_type": "stream",
     "text": [
      "Pred, target tensor(nan, grad_fn=<SelectBackward0>) tensor([-1.0937]) torch.Size([1024]) torch.Size([1024, 1])\n"
     ]
    },
    {
     "name": "stderr",
     "output_type": "stream",
     "text": [
      "\n"
     ]
    },
    {
     "ename": "KeyboardInterrupt",
     "evalue": "",
     "output_type": "error",
     "traceback": [
      "\u001b[0;31m---------------------------------------------------------------------------\u001b[0m",
      "\u001b[0;31mKeyboardInterrupt\u001b[0m                         Traceback (most recent call last)",
      "\u001b[0;32m/tmp/ipykernel_7726/2027138881.py\u001b[0m in \u001b[0;36m<module>\u001b[0;34m\u001b[0m\n\u001b[1;32m     11\u001b[0m \u001b[0;34m\u001b[0m\u001b[0m\n\u001b[1;32m     12\u001b[0m         \u001b[0mbatch_loss\u001b[0m \u001b[0;34m=\u001b[0m \u001b[0mmse_loss\u001b[0m\u001b[0;34m(\u001b[0m\u001b[0mprediction\u001b[0m\u001b[0;34m,\u001b[0m \u001b[0mtarget\u001b[0m\u001b[0;34m)\u001b[0m\u001b[0;34m\u001b[0m\u001b[0;34m\u001b[0m\u001b[0m\n\u001b[0;32m---> 13\u001b[0;31m         \u001b[0mbatch_loss\u001b[0m\u001b[0;34m.\u001b[0m\u001b[0mbackward\u001b[0m\u001b[0;34m(\u001b[0m\u001b[0;34m)\u001b[0m\u001b[0;34m\u001b[0m\u001b[0;34m\u001b[0m\u001b[0m\n\u001b[0m\u001b[1;32m     14\u001b[0m         \u001b[0moptimizer\u001b[0m\u001b[0;34m.\u001b[0m\u001b[0mstep\u001b[0m\u001b[0;34m(\u001b[0m\u001b[0;34m)\u001b[0m\u001b[0;34m\u001b[0m\u001b[0;34m\u001b[0m\u001b[0m\n\u001b[1;32m     15\u001b[0m \u001b[0;34m\u001b[0m\u001b[0m\n",
      "\u001b[0;32m~/anaconda3/lib/python3.9/site-packages/torch/_tensor.py\u001b[0m in \u001b[0;36mbackward\u001b[0;34m(self, gradient, retain_graph, create_graph, inputs)\u001b[0m\n\u001b[1;32m    490\u001b[0m                 \u001b[0minputs\u001b[0m\u001b[0;34m=\u001b[0m\u001b[0minputs\u001b[0m\u001b[0;34m,\u001b[0m\u001b[0;34m\u001b[0m\u001b[0;34m\u001b[0m\u001b[0m\n\u001b[1;32m    491\u001b[0m             )\n\u001b[0;32m--> 492\u001b[0;31m         torch.autograd.backward(\n\u001b[0m\u001b[1;32m    493\u001b[0m             \u001b[0mself\u001b[0m\u001b[0;34m,\u001b[0m \u001b[0mgradient\u001b[0m\u001b[0;34m,\u001b[0m \u001b[0mretain_graph\u001b[0m\u001b[0;34m,\u001b[0m \u001b[0mcreate_graph\u001b[0m\u001b[0;34m,\u001b[0m \u001b[0minputs\u001b[0m\u001b[0;34m=\u001b[0m\u001b[0minputs\u001b[0m\u001b[0;34m\u001b[0m\u001b[0;34m\u001b[0m\u001b[0m\n\u001b[1;32m    494\u001b[0m         )\n",
      "\u001b[0;32m~/anaconda3/lib/python3.9/site-packages/torch/autograd/__init__.py\u001b[0m in \u001b[0;36mbackward\u001b[0;34m(tensors, grad_tensors, retain_graph, create_graph, grad_variables, inputs)\u001b[0m\n\u001b[1;32m    249\u001b[0m     \u001b[0;31m# some Python versions print out the first line of a multi-line function\u001b[0m\u001b[0;34m\u001b[0m\u001b[0;34m\u001b[0m\u001b[0m\n\u001b[1;32m    250\u001b[0m     \u001b[0;31m# calls in the traceback and some print out the last line\u001b[0m\u001b[0;34m\u001b[0m\u001b[0;34m\u001b[0m\u001b[0m\n\u001b[0;32m--> 251\u001b[0;31m     Variable._execution_engine.run_backward(  # Calls into the C++ engine to run the backward pass\n\u001b[0m\u001b[1;32m    252\u001b[0m         \u001b[0mtensors\u001b[0m\u001b[0;34m,\u001b[0m\u001b[0;34m\u001b[0m\u001b[0;34m\u001b[0m\u001b[0m\n\u001b[1;32m    253\u001b[0m         \u001b[0mgrad_tensors_\u001b[0m\u001b[0;34m,\u001b[0m\u001b[0;34m\u001b[0m\u001b[0;34m\u001b[0m\u001b[0m\n",
      "\u001b[0;31mKeyboardInterrupt\u001b[0m: "
     ]
    }
   ],
   "source": [
    "losses = []\n",
    "\n",
    "for i in tqdm.tqdm(range(10)):\n",
    "    loss = 0\n",
    "    for j, (data, target) in tqdm.tqdm(enumerate(dataloader)):\n",
    "        optimizer.zero_grad()\n",
    "\n",
    "        prediction = model.forward(data)[:, 0]\n",
    "      \n",
    "        print(\"Pred, target\", prediction[0], target[0], prediction.shape, target.shape)\n",
    "\n",
    "        batch_loss = mse_loss(prediction, target)\n",
    "        batch_loss.backward()\n",
    "        optimizer.step()\n",
    "\n",
    "        loss += batch_loss.detach().item()\n",
    "        print(\"Loss:\", batch_loss.detach().item())\n",
    "    losses.append(loss)\n",
    "    print(\"Loss:\", losses[-1])"
   ]
  }
 ],
 "metadata": {
  "kernelspec": {
   "display_name": "base",
   "language": "python",
   "name": "python3"
  },
  "language_info": {
   "codemirror_mode": {
    "name": "ipython",
    "version": 3
   },
   "file_extension": ".py",
   "mimetype": "text/x-python",
   "name": "python",
   "nbconvert_exporter": "python",
   "pygments_lexer": "ipython3",
   "version": "3.9.13"
  }
 },
 "nbformat": 4,
 "nbformat_minor": 2
}
