{
 "cells": [
  {
   "cell_type": "code",
   "execution_count": 1,
   "metadata": {},
   "outputs": [],
   "source": [
    "import pandas as pd\n",
    "import numpy as np\n",
    "\n",
    "import tqdm\n",
    "\n",
    "import torch\n",
    "import torch.nn as nn\n",
    "import torch.optim as optim\n",
    "import torch.nn.functional as F\n",
    "import torch.utils\n",
    "import torch.utils.data\n",
    "\n",
    "import numpy as np\n",
    "import matplotlib.pyplot as plt\n",
    "from sklearn.preprocessing import MinMaxScaler\n",
    "from sklearn.preprocessing import StandardScaler"
   ]
  },
  {
   "cell_type": "code",
   "execution_count": 2,
   "metadata": {},
   "outputs": [
    {
     "name": "stderr",
     "output_type": "stream",
     "text": [
      "/tmp/ipykernel_244098/2519436331.py:4: DtypeWarning: Columns (435,436,437,438,439,440,441,442,443,444,445,446,447,448,449,450,451,452,453,454,455,456,457,458,459,460,461,462,463,464,465,466,467,468,469,470,471,472,473,474,475,476,477,478,479,480,481,482,483,484,485,486,487,488,489,490,491,492,493,494,495,496,497,498,499,500,501,502,503,504,505,506) have mixed types. Specify dtype option on import or set low_memory=False.\n",
      "  df = pd.read_csv(train_file)\n"
     ]
    },
    {
     "name": "stdout",
     "output_type": "stream",
     "text": [
      "Num features train 508\n",
      "Num features test 507\n"
     ]
    },
    {
     "data": {
      "text/plain": [
       "id               category\n",
       "p_num            category\n",
       "time             category\n",
       "bg-5:55           float64\n",
       "bg-5:50           float64\n",
       "                   ...   \n",
       "activity-0:15    category\n",
       "activity-0:10    category\n",
       "activity-0:05    category\n",
       "activity-0:00    category\n",
       "bg+1:00           float64\n",
       "Length: 508, dtype: object"
      ]
     },
     "execution_count": 2,
     "metadata": {},
     "output_type": "execute_result"
    }
   ],
   "source": [
    "train_file = \"./kaggle/brist1d/train.csv\"\n",
    "test_file = \"./kaggle/brist1d/test.csv\"\n",
    "\n",
    "df = pd.read_csv(train_file)\n",
    "df_test = pd.read_csv(test_file)\n",
    "\n",
    "print(\"Num features train\", df.shape[1])\n",
    "print(\"Num features test\", df_test.shape[1])\n",
    "\n",
    "for col in df.columns:\n",
    "    if df[col].dtype == 'object':\n",
    "        df[col] = df[col].astype('category')\n",
    "        df_test[col] = df_test[col].astype('category')\n",
    "\n",
    "df.dtypes"
   ]
  },
  {
   "cell_type": "markdown",
   "metadata": {},
   "source": [
    "## Data Cleaning - handling missing values"
   ]
  },
  {
   "cell_type": "code",
   "execution_count": 3,
   "metadata": {},
   "outputs": [],
   "source": [
    "features = df.columns\n",
    "bg_cols = [col for col in features if \"bg\" in col]\n",
    "insulin_cols = [col for col in features if \"insulin\" in col]\n",
    "carbs_cols = [col for col in features if \"carbs\" in col]\n",
    "hr_cols = [col for col in features if \"hr\" in col]\n",
    "steps_cols = [col for col in features if \"steps\" in col]\n",
    "cals_cols = [col for col in features if \"cals\" in col]\n",
    "activity_cols = [col for col in features if \"activity\" in col]"
   ]
  },
  {
   "cell_type": "markdown",
   "metadata": {},
   "source": [
    "Fill missing values for features based on:\n",
    "- mean value: blood glucose, carbs, cals\n",
    "- zeroes: insulin\n",
    "- forward filled (i.e. propagates the last observation forward): heart rate, steps"
   ]
  },
  {
   "cell_type": "code",
   "execution_count": 4,
   "metadata": {},
   "outputs": [
    {
     "name": "stdout",
     "output_type": "stream",
     "text": [
      "NaNs in training data:  id                    0\n",
      "p_num                 0\n",
      "time                  0\n",
      "bg-5:55               0\n",
      "bg-5:50               0\n",
      "                  ...  \n",
      "activity-0:15    174293\n",
      "activity-0:10    174287\n",
      "activity-0:05    174271\n",
      "activity-0:00    174287\n",
      "bg+1:00               0\n",
      "Length: 508, dtype: int64\n",
      "NaNs in testing data id                  0\n",
      "p_num               0\n",
      "time                0\n",
      "bg-5:55             0\n",
      "bg-5:50             0\n",
      "                 ... \n",
      "activity-0:20    3580\n",
      "activity-0:15    3587\n",
      "activity-0:10    3586\n",
      "activity-0:05    3581\n",
      "activity-0:00    3583\n",
      "Length: 507, dtype: int64\n",
      "Num features train 508\n",
      "Num features test 507\n"
     ]
    }
   ],
   "source": [
    "for feature in [*bg_cols, *carbs_cols, *cals_cols]:\n",
    "    if feature != \"bg+1:00\":\n",
    "        df[feature] = df[feature].fillna(df[feature].mean())\n",
    "        df_test[feature] = df_test[feature].fillna(df_test[feature].mean())\n",
    "\n",
    "for feature in insulin_cols:\n",
    "    df[feature] = df[feature].fillna(0)\n",
    "    df_test[feature] = df_test[feature].fillna(0)\n",
    "\n",
    "for feature in [*hr_cols, *steps_cols]:\n",
    "    df[feature] = df[feature].fillna(method=\"ffill\")\n",
    "    df_test[feature] = df_test[feature].fillna(method=\"ffill\")\n",
    "\n",
    "    df[feature] = df[feature].fillna(method=\"bfill\")\n",
    "    df_test[feature] = df_test[feature].fillna(method=\"bfill\")\n",
    "\n",
    "print(\"NaNs in training data: \", df.isna().sum())\n",
    "print(\"NaNs in testing data\", df_test.isna().sum())\n",
    "\n",
    "print(\"Num features train\", df.shape[1])\n",
    "print(\"Num features test\", df_test.shape[1])"
   ]
  },
  {
   "cell_type": "code",
   "execution_count": 5,
   "metadata": {},
   "outputs": [
    {
     "name": "stdout",
     "output_type": "stream",
     "text": [
      "Num features train 433\n",
      "Num features test 433\n"
     ]
    }
   ],
   "source": [
    "df['time'] = pd.to_timedelta(df['time']).dt.total_seconds()\n",
    "df_test['time'] = pd.to_timedelta(df_test['time']).dt.total_seconds()\n",
    "\n",
    "# for now we just ignore participant profiles\n",
    "df.drop(columns=[\"p_num\", \"id\", *activity_cols], inplace=True)\n",
    "test_ids = df_test[\"id\"]\n",
    "df_test.drop(columns=[\"p_num\", \"id\", *activity_cols], inplace=True)\n",
    "\n",
    "# drop remaining NAs that could not be filled in\n",
    "# df = df.dropna(how=\"any\")\n",
    "# df_test = df_test.dropna(how=\"any\")\n",
    "\n",
    "y = df[\"bg+1:00\"]\n",
    "df = df.drop(\"bg+1:00\", axis=1)\n",
    "\n",
    "print(\"Num features train\", df.shape[1])\n",
    "print(\"Num features test\", df_test.shape[1])"
   ]
  },
  {
   "cell_type": "code",
   "execution_count": 6,
   "metadata": {},
   "outputs": [
    {
     "name": "stdout",
     "output_type": "stream",
     "text": [
      "Data train shape (177024, 433)\n",
      "Data test shape (3644, 433)\n"
     ]
    }
   ],
   "source": [
    "print(\"Data train shape\", df.shape)\n",
    "print(\"Data test shape\", df_test.shape)"
   ]
  },
  {
   "cell_type": "markdown",
   "metadata": {},
   "source": [
    "### Normalize features"
   ]
  },
  {
   "cell_type": "code",
   "execution_count": 7,
   "metadata": {},
   "outputs": [
    {
     "name": "stdout",
     "output_type": "stream",
     "text": [
      "torch.Size([177024, 433])\n",
      "torch.Size([177024, 1])\n"
     ]
    }
   ],
   "source": [
    "# scale features\n",
    "scaler = StandardScaler()\n",
    "df = scaler.fit_transform(df)\n",
    "df_test = scaler.fit_transform(df_test)\n",
    "y = scaler.fit_transform(np.reshape(y.values, (-1, 1)))\n",
    "\n",
    "# transform to tensor and reshape\n",
    "df_tensor = torch.Tensor(df)\n",
    "df_test_tensor = torch.Tensor(df_test)\n",
    "y_tensor = torch.Tensor(y)\n",
    "print(df_tensor.shape)\n",
    "print(y_tensor.shape)\n",
    "\n",
    "# create dataloader\n",
    "BATCH_SIZE = 256\n",
    "\n",
    "dataset = torch.utils.data.TensorDataset(df_tensor, y_tensor)\n",
    "dataloader = torch.utils.data.DataLoader(dataset, batch_size=BATCH_SIZE, shuffle=True)\n"
   ]
  },
  {
   "cell_type": "markdown",
   "metadata": {},
   "source": [
    "#### Checking the data before feeding it into the network"
   ]
  },
  {
   "cell_type": "code",
   "execution_count": 8,
   "metadata": {},
   "outputs": [],
   "source": [
    "for col in range(df_tensor.shape[1]):\n",
    "    if df_tensor[:, col].isnan().sum() != 0:\n",
    "        print(f\"Col {col} with {df_tensor[:, col].isnan().sum()} missing values\")"
   ]
  },
  {
   "cell_type": "markdown",
   "metadata": {},
   "source": [
    "### RNN (LSTM)"
   ]
  },
  {
   "cell_type": "code",
   "execution_count": 9,
   "metadata": {},
   "outputs": [],
   "source": [
    "class RNN(nn.Module):\n",
    "    def __init__(self, batch_size, input_size, hidden_size, num_layers):\n",
    "        super(RNN, self).__init__()\n",
    "        self.batch_size = batch_size\n",
    "        self.input_size = input_size\n",
    "        self.hidden_size = hidden_size\n",
    "\n",
    "        self.lstm_1 = nn.GRU(input_size=input_size, hidden_size=hidden_size, num_layers=num_layers, batch_first=True)\n",
    "        #self.lstm_2 = nn.LSTM(input_size=hidden_size[0], hidden_size=hidden_size[1], num_layers=num_layers, batch_first=True)\n",
    "        self.dropout = nn.Dropout(0.2)\n",
    "        self.linear = nn.Linear(hidden_size, 1)\n",
    "        self.pos_out = nn.ReLU()\n",
    "\n",
    "    \n",
    "    def forward(self, x):\n",
    "        x, _ = self.lstm_1(x)\n",
    "        #x, _ = self.lstm_2(x)\n",
    "        #print(\"LSTM in, lstm out\", x.shape)\n",
    "        out = self.dropout(x)\n",
    "        #print(out.shape)\n",
    "        pred = self.linear(out)\n",
    "\n",
    "        return self.pos_out(pred)\n"
   ]
  },
  {
   "cell_type": "code",
   "execution_count": 10,
   "metadata": {},
   "outputs": [],
   "source": [
    "model = RNN(input_size=df_tensor.size(1), batch_size=BATCH_SIZE, hidden_size=20, num_layers=1)\n",
    "\n",
    "optimizer = optim.Adam(model.parameters(), lr=0.005)\n",
    "mse_loss = torch.nn.MSELoss()"
   ]
  },
  {
   "cell_type": "code",
   "execution_count": 11,
   "metadata": {},
   "outputs": [
    {
     "name": "stderr",
     "output_type": "stream",
     "text": [
      "692it [01:00, 11.39it/s]0:00<?, ?it/s]\n",
      "692it [00:57, 11.99it/s]1:00<19:14, 60.75s/it]\n",
      "692it [01:01, 11.18it/s]1:58<17:41, 58.96s/it]\n",
      "692it [01:03, 10.94it/s]3:00<17:05, 60.30s/it]\n",
      "692it [00:56, 12.15it/s]4:03<16:23, 61.46s/it]\n",
      "692it [00:56, 12.35it/s]5:00<14:57, 59.84s/it]\n",
      "692it [00:56, 12.32it/s]5:56<13:39, 58.54s/it]\n",
      "692it [00:56, 12.32it/s]6:52<12:31, 57.77s/it]\n",
      "692it [00:56, 12.33it/s]7:48<11:27, 57.26s/it]\n",
      "692it [00:56, 12.28it/s]8:45<10:25, 56.90s/it]\n",
      "692it [00:56, 12.30it/s]09:41<09:27, 56.74s/it]\n",
      "692it [00:56, 12.31it/s]10:37<08:29, 56.59s/it]\n",
      "692it [00:56, 12.25it/s]11:33<07:31, 56.47s/it]\n",
      "692it [00:56, 12.35it/s]12:30<06:35, 56.48s/it]\n",
      "692it [00:56, 12.31it/s]13:26<05:38, 56.34s/it]\n",
      "692it [00:56, 12.33it/s]14:22<04:41, 56.31s/it]\n",
      "692it [00:56, 12.30it/s]15:18<03:45, 56.25s/it]\n",
      "692it [00:56, 12.32it/s]16:15<02:48, 56.26s/it]\n",
      "692it [00:56, 12.26it/s]17:11<01:52, 56.24s/it]\n",
      "692it [00:56, 12.28it/s]18:07<00:56, 56.30s/it]\n",
      "100%|██████████| 20/20 [19:04<00:00, 57.20s/it]\n"
     ]
    }
   ],
   "source": [
    "losses = []\n",
    "\n",
    "for i in tqdm.tqdm(range(20)):\n",
    "    loss = 0\n",
    "    for j, (data, target) in tqdm.tqdm(enumerate(dataloader)):\n",
    "        optimizer.zero_grad()\n",
    "\n",
    "        prediction = model.forward(data)\n",
    "      \n",
    "        #print(\"Pred, target\", prediction[0], target[0], prediction.shape, target.shape)\n",
    "\n",
    "        batch_loss = mse_loss(prediction, target)\n",
    "        batch_loss.backward()\n",
    "        optimizer.step()\n",
    "\n",
    "        loss += batch_loss.detach().item()\n",
    "        #print(\"Loss:\", batch_loss.detach().item())\n",
    "    losses.append(loss/BATCH_SIZE)\n",
    "    #print(\"Loss:\", losses[-1])"
   ]
  },
  {
   "cell_type": "code",
   "execution_count": 12,
   "metadata": {},
   "outputs": [
    {
     "data": {
      "image/png": "[encoded data removed]",
      "text/plain": [
       "<Figure size 640x480 with 1 Axes>"
      ]
     },
     "metadata": {},
     "output_type": "display_data"
    }
   ],
   "source": [
    "plt.plot(losses, label=\"training loss\")\n",
    "plt.xlabel(\"epochs\")\n",
    "plt.ylabel(\"MSE Loss\")\n",
    "plt.legend()\n",
    "plt.show()"
   ]
  },
  {
   "cell_type": "markdown",
   "metadata": {},
   "source": [
    "### Make predictions and compute MSE"
   ]
  },
  {
   "cell_type": "code",
   "execution_count": 13,
   "metadata": {},
   "outputs": [
    {
     "name": "stderr",
     "output_type": "stream",
     "text": [
      "/home/coco/anaconda3/lib/python3.9/site-packages/numpy/core/fromnumeric.py:3430: FutureWarning: Dropping of nuisance columns in DataFrame reductions (with 'numeric_only=None') is deprecated; in a future version this will raise TypeError.  Select only valid columns before calling the reduction.\n",
      "  return mean(axis=axis, dtype=dtype, out=out, **kwargs)\n",
      "/home/coco/anaconda3/lib/python3.9/site-packages/numpy/core/fromnumeric.py:3571: FutureWarning: Dropping of nuisance columns in DataFrame reductions (with 'numeric_only=None') is deprecated; in a future version this will raise TypeError.  Select only valid columns before calling the reduction.\n",
      "  return std(axis=axis, dtype=dtype, out=out, ddof=ddof, **kwargs)\n"
     ]
    }
   ],
   "source": [
    "orig_df_test = pd.read_csv(test_file)\n",
    "df_test_std = np.mean(orig_df_test, axis=1)\n",
    "df_test_std = np.std(orig_df_test, axis=1)"
   ]
  },
  {
   "cell_type": "code",
   "execution_count": 14,
   "metadata": {},
   "outputs": [
    {
     "name": "stdout",
     "output_type": "stream",
     "text": [
      "[[8.79254861]\n",
      " [8.27704492]\n",
      " [8.61482285]\n",
      " ...\n",
      " [8.27704492]\n",
      " [8.27704492]\n",
      " [8.27704492]]\n",
      "(3644,) torch.Size([3644, 1]) torch.Size([3644, 433]) <class 'torch.Tensor'>\n"
     ]
    }
   ],
   "source": [
    "# Make predictions\n",
    "with torch.no_grad():\n",
    "    y_test_pred = model(df_test_tensor)\n",
    "\n",
    "y_test_pred_inv_transformed = scaler.inverse_transform(y_test_pred)\n",
    "print(y_test_pred_inv_transformed)\n",
    "print(test_ids.shape, y_test_pred.shape, df_test_tensor.shape, type(y_test_pred))\n",
    "out = np.column_stack([test_ids, y_test_pred_inv_transformed])\n",
    "out = pd.DataFrame(out, columns=[\"id\", \"bg+1:00\"])\n",
    "\n",
    "out.to_csv(\"submission.csv\", index=False)"
   ]
  }
 ],
 "metadata": {
  "kernelspec": {
   "display_name": "base",
   "language": "python",
   "name": "python3"
  },
  "language_info": {
   "codemirror_mode": {
    "name": "ipython",
    "version": 3
   },
   "file_extension": ".py",
   "mimetype": "text/x-python",
   "name": "python",
   "nbconvert_exporter": "python",
   "pygments_lexer": "ipython3",
   "version": "3.9.13"
  }
 },
 "nbformat": 4,
 "nbformat_minor": 2
}
